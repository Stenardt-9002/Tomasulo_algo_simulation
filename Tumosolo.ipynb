{
  "nbformat": 4,
  "nbformat_minor": 0,
  "metadata": {
    "colab": {
      "name": "Tumosolo.ipynb",
      "provenance": [],
      "collapsed_sections": []
    },
    "kernelspec": {
      "name": "python3",
      "display_name": "Python 3"
    }
  },
  "cells": [
    {
      "cell_type": "code",
      "metadata": {
        "id": "-LG7usOXLhml",
        "colab_type": "code",
        "colab": {}
      },
      "source": [
        "\n",
        "import sys\n",
        "import re\n",
        "import time\n",
        "from os import system, name\n",
        "\n",
        "HALTOPCODE = -1"
      ],
      "execution_count": 62,
      "outputs": []
    },
    {
      "cell_type": "code",
      "metadata": {
        "id": "nlNuSBqmNo2m",
        "colab_type": "code",
        "colab": {
          "base_uri": "https://localhost:8080/",
          "height": 108
        },
        "outputId": "e8ac3e61-6d5c-47fe-9425-203e1bd60d3f"
      },
      "source": [
        "txtparse = '''0100 F1,F2,F3\n",
        "0000 F4,F1,F5\n",
        "0100 F7,F1,F8\n",
        "0100 F9,F10,F11\n",
        "0100 F12,F13,F14'''\n",
        "print(txtparse)"
      ],
      "execution_count": 63,
      "outputs": [
        {
          "output_type": "stream",
          "text": [
            "0100 F1,F2,F3\n",
            "0000 F4,F1,F5\n",
            "0100 F7,F1,F8\n",
            "0100 F9,F10,F11\n",
            "0100 F12,F13,F14\n"
          ],
          "name": "stdout"
        }
      ]
    },
    {
      "cell_type": "markdown",
      "metadata": {
        "id": "XVmaoejRNwFk",
        "colab_type": "text"
      },
      "source": [
        ""
      ]
    },
    {
      "cell_type": "code",
      "metadata": {
        "id": "gvZ5oKZmNxXm",
        "colab_type": "code",
        "colab": {
          "base_uri": "https://localhost:8080/",
          "height": 35
        },
        "outputId": "e322ed9f-d882-4c00-cdc5-ad29fab2b10b"
      },
      "source": [
        "strings1 = txtparse.split(\"\\n\")\n",
        "# strings1.remove('')\n",
        "print(strings1)"
      ],
      "execution_count": 64,
      "outputs": [
        {
          "output_type": "stream",
          "text": [
            "['0100 F1,F2,F3', '0000 F4,F1,F5', '0100 F7,F1,F8', '0100 F9,F10,F11', '0100 F12,F13,F14']\n"
          ],
          "name": "stdout"
        }
      ]
    },
    {
      "cell_type": "code",
      "metadata": {
        "id": "HVX6G2FwNxgC",
        "colab_type": "code",
        "colab": {}
      },
      "source": [
        "try:\n",
        "    HALTOPCODE = strings1.index('1000')\n",
        "except:\n",
        "    HALTOPCODE = -1\n",
        "# print(strings1,HALTOPCODE)\n",
        "pattern = re.compile(r'(\\d{4}) (.*)\\n?')\n",
        "matchiter = pattern.finditer(txtparse)\n",
        "# print(matchiter)\n",
        "opc_odes1 = []\n",
        "res_tothe1rinputs = []\n",
        "res_totherinputs = []\n",
        "\n",
        "# for i in matchiter:\n",
        "#   print(i)\n",
        "\n"
      ],
      "execution_count": 65,
      "outputs": []
    },
    {
      "cell_type": "code",
      "metadata": {
        "id": "eCTGA53aNxim",
        "colab_type": "code",
        "colab": {}
      },
      "source": [
        "\n",
        "for iter in matchiter:\n",
        "    # print(iter.group(1),iter.group(2))\n",
        "    opc_odes1.append(iter.group(1))\n",
        "    res_tothe1rinputs.append(iter.group(2))\n",
        "\n",
        "# print(opc_odes1)\n",
        "# print(res_tothe1rinputs)\n",
        "for i in res_tothe1rinputs:\n",
        "    # print(i.split(\" \"))\n",
        "    temp_listtemp = []\n",
        "    for i12 in i.split(\",\"):\n",
        "        temp_listtemp.append(i12.strip()) #removes spaces\n",
        "        pass\n",
        "\n",
        "\n",
        "    res_totherinputs.append(temp_listtemp)\n",
        "    pass\n"
      ],
      "execution_count": 66,
      "outputs": []
    },
    {
      "cell_type": "code",
      "metadata": {
        "id": "vmJGeIkrNxlL",
        "colab_type": "code",
        "colab": {}
      },
      "source": [
        "if HALTOPCODE!=-1:\n",
        "    opc_odes1 = opc_odes1[:HALTOPCODE]+[\"1000\"]+opc_odes1[HALTOPCODE:]\n",
        "    temp1 = res_totherinputs[:HALTOPCODE]\n",
        "    temp1.append([])\n",
        "    temp2 = res_totherinputs[HALTOPCODE:]\n",
        "    res_totherinputs = temp1+temp2\n",
        "\n",
        "# print(res_totherinputs)\n",
        "# print(opc_odes1)\n",
        "# If halt encountered\n",
        "\n",
        "temp_ereg = [\"R1\",\"R2\",\"R3\",\"R4\",\"R5\"]"
      ],
      "execution_count": 67,
      "outputs": []
    },
    {
      "cell_type": "markdown",
      "metadata": {
        "id": "02j-A5ecPWyD",
        "colab_type": "text"
      },
      "source": [
        ""
      ]
    },
    {
      "cell_type": "code",
      "metadata": {
        "id": "Yal2lhgTNxnk",
        "colab_type": "code",
        "colab": {}
      },
      "source": [
        "register_Status = {'F1' :0,'F2' :0,'F3' :0,'F4' :0,'F5' :0,'F6' :0,'F7' :0,'F8' :0,'F9' :0,'F10' :0,'F11' :0,'F12' :0,'F13' :0,'F14' :0,'F15' :0,'F16' :0,\"R1\":0,\"R2\":0,\"R3\":0,\"R4\":0,\"R5\":0}\n",
        "\n",
        "reservation_Station = {'ADD_N' :{'ex':{'busy':0,'op':-1,'vj':0,'vk':0,'qj':0,'qk':0,'readytowrite':0},'is':{'busy':0,'op':-1,'vj':0,'vk':0,'qj':0,'qk':0,'readytoexec':0},'wb':{'busy':0,'op':-1,'vj':0,'vk':0,'qj':0,'qk':0}},\n",
        "'ADD_W_C' :{'ex':{'busy':0,'op':-1,'vj':0,'vk':0,'qj':0,'qk':0,'readytowrite':0},'is':{'busy':0,'op':-1,'vj':0,'vk':0,'qj':0,'qk':0,'readytoexec':0},'wb':{'busy':0,'op':-1,'vj':0,'vk':0,'qj':0,'qk':0}},'SUB_N' :{'ex':{'busy':0,'op':-1,'vj':0,'vk':0,'qj':0,'qk':0,'readytowrite':0},'is':{'busy':0,'op':-1,'vj':0,'vk':0,'qj':0,'qk':0,'readytoexec':0},'wb':{'busy':0,'op':-1,'vj':0,'vk':0,'qj':0,'qk':0}},'SUB_B' :{'ex':{'busy':0,'op':-1,'vj':0,'vk':0,'qj':0,'qk':0,'readytowrite':0},'is':{'busy':0,'op':-1,'vj':0,'vk':0,'qj':0,'qk':0,'readytoexec':0},'wb':{'busy':0,'op':-1,'vj':0,'vk':0,'qj':0,'qk':0}},'MUL_T' :{'ex':{'busy':0,'op':-1,'vj':0,'vk':0,'qj':0,'qk':0,'readytowrite':0},'is':{'busy':0,'op':-1,'vj':0,'vk':0,'qj':0,'qk':0,'readytoexec':0},'wb':{'busy':0,'op':-1,'vj':0,'vk':0,'qj':0,'qk':0}},'FP_ADDER' :{'ex':{'busy':0,'op':-1,'vj':0,'vk':0,'qj':0,'qk':0,'readytowrite':0},'is':{'busy':0,'op':-1,'vj':0,'vk':0,'qj':0,'qk':0,'readytoexec':0},'wb':{'busy':0,'op':-1,'vj':0,'vk':0,'qj':0,'qk':0}},'FP_SUB' :{'ex':{'busy':0,'op':-1,'vj':0,'vk':0,'qj':0,'qk':0,'readytowrite':0},'is':{'busy':0,'op':-1,'vj':0,'vk':0,'qj':0,'qk':0,'readytoexec':0},'wb':{'busy':0,'op':-1,'vj':0,'vk':0,'qj':0,'qk':0}},'FP_MUL' :{'ex':{'busy':0,'op':-1,'vj':0,'vk':0,'qj':0,'qk':0,'readytowrite':0},'is':{'busy':0,'op':-1,'vj':0,'vk':0,'qj':0,'qk':0,'readytoexec':0},'wb':{'busy':0,'op':-1,'vj':0,'vk':0,'qj':0,'qk':0}},'HALT' :{'ex':{'busy':0,'op':-1,'vj':0,'vk':0,'qj':0,'qk':0,'readytowrite':0},'is':{'busy':0,'op':-1,'vj':0,'vk':0,'qj':0,'qk':0,'readytoexec':0},'wb':{'busy':0,'op':-1,'vj':0,'vk':0,'qj':0,'qk':0}},'REGISTER_COMPLEMENT' :{'ex':{'busy':0,'op':-1,'vj':0,'vk':0,'qj':0,'qk':0,'readytowrite':0},'is':{'busy':0,'op':-1,'vj':0,'vk':0,'qj':0,'qk':0,'readytoexec':0},'wb':{'busy':0,'op':-1,'vj':0,'vk':0,'qj':0,'qk':0}},'LOG_XOR' :{'ex':{'busy':0,'op':-1,'vj':0,'vk':0,'qj':0,'qk':0,'readytowrite':0},'is':{'busy':0,'op':-1,'vj':0,'vk':0,'qj':0,'qk':0,'readytoexec':0},'wb':{'busy':0,'op':-1,'vj':0,'vk':0,'qj':0,'qk':0}},'LOG_NAND' :{'ex':{'busy':0,'op':-1,'vj':0,'vk':0,'qj':0,'qk':0,'readytowrite':0},'is':{'busy':0,'op':-1,'vj':0,'vk':0,'qj':0,'qk':0,'readytoexec':0},'wb':{'busy':0,'op':-1,'vj':0,'vk':0,'qj':0,'qk':0}},'SHIFT_RIGHT' :{'ex':{'busy':0,'op':-1,'vj':0,'vk':0,'qj':0,'qk':0,'readytowrite':0},'is':{'busy':0,'op':-1,'vj':0,'vk':0,'qj':0,'qk':0,'readytoexec':0},'wb':{'busy':0,'op':-1,'vj':0,'vk':0,'qj':0,'qk':0}},'SHIT_LEFTF' :{'ex':{'busy':0,'op':-1,'vj':0,'vk':0,'qj':0,'qk':0,'readytowrite':0},'is':{'busy':0,'op':-1,'vj':0,'vk':0,'qj':0,'qk':0,'readytoexec':0},'wb':{'busy':0,'op':-1,'vj':0,'vk':0,'qj':0,'qk':0}},'STORE' :{'ex':{'busy':0,'op':-1,'vj':0,'vk':0,'qj':0,'qk':0,'readytowrite':0},'is':{'busy':0,'op':-1,'vj':0,'vk':0,'qj':0,'qk':0,'readytoexec':0},'wb':{'busy':0,'op':-1,'vj':0,'vk':0,'qj':0,'qk':0}},'LOAD1' :{'ex':{'busy':0,'op':-1,'vj':0,'vk':0,'qj':0,'qk':0,'readytowrite':0},'is':{'busy':0,'op':-1,'vj':0,'vk':0,'qj':0,'qk':0,'readytoexec':0},'wb':{'busy':0,'op':-1,'vj':0,'vk':0,'qj':0,'qk':0}}}\n"
      ],
      "execution_count": 68,
      "outputs": []
    },
    {
      "cell_type": "code",
      "metadata": {
        "id": "-xWHRVYzPjec",
        "colab_type": "code",
        "colab": {
          "base_uri": "https://localhost:8080/",
          "height": 35
        },
        "outputId": "96329a43-18b9-4a8a-a375-026972a6df69"
      },
      "source": [
        "\n",
        "##CHCK ALL res_totherinputs registers are valid or not\n",
        "for ivar in range(len(res_totherinputs)):\n",
        "    for regvar in res_totherinputs[ivar]:\n",
        "        if regvar in temp_ereg:\n",
        "\n",
        "            print(\"Reached invalid syntax\")\n",
        "            print(\"Cannot use this name of variable\")\n",
        "            print(res_totherinputs[ivar])\n",
        "            sys.exit(0)\n",
        "            # raise(\"Invalid Syntax Error\")\n",
        "\n",
        "        if regvar not in register_Status.keys() and opc_odes1[ivar]!=\"1000\" :#not halt\n",
        "            # if((int)(regvar)):\n",
        "            # print(regvar)\n",
        "\n",
        "\n",
        "            if regvar.isdigit():\n",
        "                pass\n",
        "            else:\n",
        "\n",
        "                print(\"Reached invalid syntax\")\n",
        "                print(res_totherinputs[ivar])\n",
        "                sys.exit(0)\n",
        "                # raise(\"Invalid Syntax Error\")\n",
        "\n",
        "\n",
        "CLOCK_VAR = 0\n",
        "\n",
        "print(res_totherinputs)\n",
        "# print()"
      ],
      "execution_count": 69,
      "outputs": [
        {
          "output_type": "stream",
          "text": [
            "[['F1', 'F2', 'F3'], ['F4', 'F1', 'F5'], ['F7', 'F1', 'F8'], ['F9', 'F10', 'F11'], ['F12', 'F13', 'F14']]\n"
          ],
          "name": "stdout"
        }
      ]
    },
    {
      "cell_type": "markdown",
      "metadata": {
        "id": "Neie-_YePj0r",
        "colab_type": "text"
      },
      "source": [
        "<h1>Function of Hardware</h1>\n"
      ]
    },
    {
      "cell_type": "code",
      "metadata": {
        "id": "gCIN4UaYNxp4",
        "colab_type": "code",
        "colab": {}
      },
      "source": [
        "\n",
        "\n",
        "\n",
        "\n",
        "\n",
        "\n",
        "\n",
        "\n",
        "STORE_HARDWARE = {\n",
        "'ADD_N' :[1,8,'ADD_N'],\n",
        "'ADD_W_C' :[1,8,'ADD_W_C'],\n",
        "'SUB_N' :[1,8,'SUB_N'],\n",
        "'SUB_B' :[1,8,'SUB_B'],\n",
        "'MUL_T' :[1,13,'MUL_T'],\n",
        "'FP_ADDER' :[1,23,'FP_ADDER'],\n",
        "'FP_SUB' :[1,26,'FP_SUB'],\n",
        "'FP_MUL' :[1,26,'FP_MUL'],\n",
        "'HALT' :[1,6,'HALT'],\n",
        "'REGISTER_COMPLEMENT' :[1,3,'REGISTER_COMPLEMENT'],\n",
        "'LOG_XOR' :[1,3,'LOG_XOR'],\n",
        "'LOG_NAND' :[1,3,'LOG_NAND'],\n",
        "'SHIFT_RIGHT' :[1,6,'SHIFT_RIGHT'],\n",
        "'SHIT_LEFTF' :[1,6,'SHIT_LEFTF'],\n",
        "'STORE' :[1,4,'STORE'],\n",
        "'LOAD1' :[1,4,'LOAD1']\n",
        "}\n",
        "\n",
        "\n",
        "\n",
        "\n",
        "\n",
        "\n",
        "\n",
        "\n",
        "\n",
        "\n",
        "\n",
        "\n",
        "\n",
        "\n",
        "\n",
        "\n",
        "\n",
        "def add_instruction_status(opcodelist):\n",
        "    hardwareList = []\n",
        "    instruction_status = []\n",
        "\n",
        "    #save execution status of each operation\n",
        "    for opvar in range(len(opcodelist)):\n",
        "        temp_dict = {'issue':0,'exec':0,'writeback':0,'completed_yet':0,'started':0,'key':0}\n",
        "\n",
        "        if opcodelist[opvar]==\"0000\":\n",
        "            temp_dict['completed_yet'] = STORE_HARDWARE['ADD_N'][1]\n",
        "            temp_dict['key'] = 'ADD_N'\n",
        "            hardwareList.append('ADD_N')\n",
        "\n",
        "            pass\n",
        "\n",
        "\n",
        "\n",
        "        elif opcodelist[opvar]==\"0001\":\n",
        "            #additon with carry 'ADD_W_C'\n",
        "            temp_dict['completed_yet'] = STORE_HARDWARE['ADD_W_C'][1]\n",
        "            temp_dict['key'] = 'ADD_W_C'\n",
        "            hardwareList.append('ADD_W_C')\n",
        "\n",
        "\n",
        "            # no of operands are correct\n",
        "            # print(\"Success\")\n",
        "\n",
        "\n",
        "\n",
        "\n",
        "        elif opcodelist[opvar]==\"0010\":\n",
        "            temp_dict['completed_yet'] = STORE_HARDWARE['SUB_N'][1]\n",
        "            temp_dict['key'] = 'SUB_N'\n",
        "            hardwareList.append('SUB_N')\n",
        "\n",
        "            # subtraction normal SUB_N\n",
        "\n",
        "\n",
        "            # print(\"Success\")\n",
        "\n",
        "\n",
        "\n",
        "\n",
        "\n",
        "\n",
        "        elif opcodelist[opvar]==\"0011\":\n",
        "            temp_dict['completed_yet'] = STORE_HARDWARE['SUB_B'][1]\n",
        "            temp_dict['key'] = 'SUB_B'\n",
        "            hardwareList.append('SUB_B')\n",
        "\n",
        "            #subtraction with borrow SUB_B\n",
        "\n",
        "            # no of operands are correct\n",
        "            # print(\"Success\")\n",
        "\n",
        "            pass\n",
        "\n",
        "\n",
        "\n",
        "        elif opcodelist[opvar]==\"0100\":\n",
        "            temp_dict['completed_yet'] = STORE_HARDWARE['MUL_T'][1]\n",
        "            temp_dict['key'] = 'MUL_T'\n",
        "            hardwareList.append('MUL_T')\n",
        "\n",
        "            #multiplication MUL_T\n",
        "\n",
        "            # no of operands are correct\n",
        "            # print(\"Success\")\n",
        "\n",
        "            pass\n",
        "\n",
        "\n",
        "\n",
        "        elif opcodelist[opvar]==\"0101\":\n",
        "            temp_dict['completed_yet'] = STORE_HARDWARE['FP_ADDER'][1]\n",
        "            temp_dict['key'] = 'FP_ADDER'\n",
        "            hardwareList.append('FP_ADDER')\n",
        "\n",
        "            # floating point adder 'FP_ADDER'\n",
        "\n",
        "            # no of operands are correct\n",
        "            # print(\"Success\")\n",
        "\n",
        "            pass\n",
        "\n",
        "\n",
        "\n",
        "        elif opcodelist[opvar]==\"0110\":\n",
        "            temp_dict['completed_yet'] = STORE_HARDWARE['FP_SUB'][1]\n",
        "            temp_dict['key'] = 'FP_SUB'\n",
        "            hardwareList.append('FP_SUB')\n",
        "\n",
        "            # floating point subtraction FP_SUB\n",
        "\n",
        "            # no of operands are correct\n",
        "            # print(\"Success\")\n",
        "\n",
        "            pass\n",
        "\n",
        "\n",
        "\n",
        "\n",
        "\n",
        "\n",
        "\n",
        "        elif opcodelist[opvar]==\"0111\":\n",
        "            temp_dict['completed_yet'] = STORE_HARDWARE['FP_MUL'][1]\n",
        "            temp_dict['key'] = 'FP_MUL'\n",
        "            hardwareList.append('FP_MUL')\n",
        "\n",
        "            # floating point multiplication FP_MUL\n",
        "\n",
        "            # no of operands are correct\n",
        "            # print(\"Success\")\n",
        "\n",
        "            pass\n",
        "\n",
        "\n",
        "\n",
        "\n",
        "\n",
        "\n",
        "\n",
        "\n",
        "\n",
        "        elif opcodelist[opvar]==\"1000\":\n",
        "            temp_dict['completed_yet'] = STORE_HARDWARE['HALT'][1]\n",
        "            temp_dict['key'] = 'HALT'\n",
        "            hardwareList.append('HALT')\n",
        "\n",
        "            # HALT STATUS  HALT\n",
        "\n",
        "            # no of operands are correct\n",
        "            # print(\"Success\")\n",
        "\n",
        "            pass\n",
        "\n",
        "\n",
        "\n",
        "\n",
        "\n",
        "\n",
        "        elif opcodelist[opvar]==\"1001\":\n",
        "            temp_dict['completed_yet'] = STORE_HARDWARE['REGISTER_COMPLEMENT'][1]\n",
        "            temp_dict['key'] = 'REGISTER_COMPLEMENT'\n",
        "            hardwareList.append('REGISTER_COMPLEMENT')\n",
        "\n",
        "            # register complemet REGISTER_COMPLEMENT\n",
        "\n",
        "            # no of operands are correct\n",
        "            # print(\"Success\")\n",
        "\n",
        "            pass\n",
        "\n",
        "\n",
        "\n",
        "        elif opcodelist[opvar]==\"1010\":\n",
        "            temp_dict['completed_yet'] = STORE_HARDWARE['LOG_XOR'][1]\n",
        "            temp_dict['key'] = 'LOG_XOR'\n",
        "            hardwareList.append('LOG_XOR')\n",
        "\n",
        "            # logical xor LOG_XOR\n",
        "\n",
        "\n",
        "\n",
        "            # no of operands are correct\n",
        "            # print(\"Success\")\n",
        "\n",
        "\n",
        "\n",
        "        elif opcodelist[opvar]==\"1011\":\n",
        "            temp_dict['completed_yet'] = STORE_HARDWARE['LOG_NAND'][1]\n",
        "            temp_dict['key'] = 'LOG_NAND'\n",
        "            hardwareList.append('LOG_NAND')\n",
        "\n",
        "            # logical bit wise nand LOG_NAND\n",
        "\n",
        "            # no of operands are correct\n",
        "            # print(\"Success\")\n",
        "\n",
        "            pass\n",
        "\n",
        "\n",
        "\n",
        "        elif opcodelist[opvar]==\"1100\":\n",
        "            temp_dict['completed_yet'] = STORE_HARDWARE['SHIFT_RIGHT'][1]\n",
        "            temp_dict['key'] = 'SHIFT_RIGHT'\n",
        "            hardwareList.append('SHIFT_RIGHT')\n",
        "\n",
        "            # shift right SHIFT_RIGHT\n",
        "\n",
        "            # no of operands are correct\n",
        "            # print(\"Success\")\n",
        "\n",
        "            pass\n",
        "\n",
        "\n",
        "\n",
        "\n",
        "\n",
        "\n",
        "\n",
        "        elif opcodelist[opvar]==\"1101\":\n",
        "            temp_dict['completed_yet'] = STORE_HARDWARE['SHIT_LEFTF'][1]\n",
        "            temp_dict['key'] = 'SHIT_LEFTF'\n",
        "            hardwareList.append('SHIT_LEFTF')\n",
        "\n",
        "            # shift right SHIT_LEFTF\n",
        "\n",
        "\n",
        "            # print(\"Success\")\n",
        "            # no of operands are correct\n",
        "\n",
        "            pass\n",
        "\n",
        "\n",
        "\n",
        "        elif opcodelist[opvar]==\"1110\":\n",
        "            temp_dict['completed_yet'] = STORE_HARDWARE['STORE'][1]\n",
        "            temp_dict['key'] = 'STORE'\n",
        "            hardwareList.append('STORE')\n",
        "\n",
        "            # store STORE\n",
        "\n",
        "            # no of operands are correct\n",
        "            # print(\"Success\")\n",
        "\n",
        "            pass\n",
        "\n",
        "\n",
        "\n",
        "        elif opcodelist[opvar]==\"1111\":\n",
        "            # load LOAD1\n",
        "\n",
        "            # no of operands are correct\n",
        "            temp_dict['completed_yet'] = STORE_HARDWARE['LOAD1'][1]\n",
        "            temp_dict['key'] = 'LOAD1'\n",
        "            hardwareList.append('LOAD1')\n",
        "\n",
        "            # print(\"Success\")\n",
        "\n",
        "            pass\n",
        "\n",
        "        instruction_status.append(temp_dict)\n",
        "\n",
        "    # print(instruction_status)\n",
        "    hardwareList = list(set(hardwareList))\n",
        "    return instruction_status,hardwareList"
      ],
      "execution_count": 70,
      "outputs": []
    },
    {
      "cell_type": "code",
      "metadata": {
        "id": "BV7clSczNxsu",
        "colab_type": "code",
        "colab": {}
      },
      "source": [
        ""
      ],
      "execution_count": 70,
      "outputs": []
    },
    {
      "cell_type": "code",
      "metadata": {
        "id": "4-WtSO0uNxvX",
        "colab_type": "code",
        "colab": {}
      },
      "source": [
        "CLOCK_VAR = 0\n",
        "\n",
        "map_table = {} #for placement #orignal name register to renamed register ,operations reading it\n",
        "\n",
        "# map_table_WAW = {}\n",
        "RAISEEXCEPTION = []\n",
        "\n",
        "\n",
        "get_hardwareused_list = []\n",
        "instruction_status ,get_hardwareused_list= add_instruction_status(opc_odes1)\n",
        "\n"
      ],
      "execution_count": 71,
      "outputs": []
    },
    {
      "cell_type": "code",
      "metadata": {
        "id": "AAocZmGPNxyu",
        "colab_type": "code",
        "colab": {}
      },
      "source": [
        ""
      ],
      "execution_count": 71,
      "outputs": []
    },
    {
      "cell_type": "markdown",
      "metadata": {
        "id": "NLC0R_U1NwLT",
        "colab_type": "text"
      },
      "source": [
        ""
      ]
    },
    {
      "cell_type": "code",
      "metadata": {
        "id": "SuEjktDOLoDS",
        "colab_type": "code",
        "colab": {}
      },
      "source": [
        "\n",
        "# check_War Hazard\n",
        "def check_War(reservation_Station,registername,opcodereceived):\n",
        "\n",
        "\n",
        "    #check for WAW ;correct this when creating WAW function\n",
        "    if registername in map_table.keys():\n",
        "        stringappend =  str(registername)+ \" is already renamed for instruction \"+ str(opcodereceived)\n",
        "        RAISEEXCEPTION.append(stringappend)\n",
        "        return [False]\n",
        "\n",
        "\n",
        "    getlist_ofoperationthatarereading = []\n",
        "    for keys1 in reservation_Station.keys():\n",
        "        for stagespipeline in reservation_Station[keys1].keys():\n",
        "            if reservation_Station[keys1][stagespipeline]['vk'] == registername or reservation_Station[keys1][stagespipeline]['vj'] == registername:\n",
        "                # if reservation_Station[keys1][stagespipeline]['vk'] == registername:\n",
        "                #\n",
        "                #     pass\n",
        "                # if reservation_Station[keys1][stagespipeline]['vj'] == registername:\n",
        "                #     pass\n",
        "                if opcodereceived>reservation_Station[keys1][stagespipeline]['op']:\n",
        "                    getlist_ofoperationthatarereading.append(reservation_Station[keys1][stagespipeline]['op'])\n",
        "                # for placement in temp_ereg:\n",
        "                #     if register_Status[placement]==0:\n",
        "                #         return True,placement,opcodereceived\n",
        "\n",
        "                # return the name of placeholder register\n",
        "\n",
        "    # if no one is reading it\n",
        "    if getlist_ofoperationthatarereading == []:\n",
        "        return [True]\n",
        "\n",
        "    #get empty register as placement\n",
        "    getlist_ofoperationthatarereading = list(set(getlist_ofoperationthatarereading))\n",
        "    for placement in temp_ereg:\n",
        "        if register_Status[placement]==0:\n",
        "\n",
        "            return [True,placement,getlist_ofoperationthatarereading,opcodereceived]\n",
        "\n",
        "\n",
        "    # if no placement is available then stall\n",
        "    RAISEEXCEPTION.append(\"No Free registers are available to rename it\")\n",
        "    return [False]\n",
        "\n",
        "\n"
      ],
      "execution_count": 72,
      "outputs": []
    },
    {
      "cell_type": "code",
      "metadata": {
        "id": "kULTnB8AS2j9",
        "colab_type": "code",
        "colab": {}
      },
      "source": [
        ""
      ],
      "execution_count": 72,
      "outputs": []
    },
    {
      "cell_type": "code",
      "metadata": {
        "id": "hCsdc3NPS2m1",
        "colab_type": "code",
        "colab": {}
      },
      "source": [
        "def check_Waw(register_Status,map_table1,regster_name):\n",
        "    reg_name_key = \"\"\n",
        "    if register_Status[regster_name] == 0:\n",
        "        # mean register is available that mean no problem\n",
        "        return [True]\n",
        "    if regster_name in map_table.keys():\n",
        "        stringappend =  str(regster_name)+ \" is already renamed \"\n",
        "        RAISEEXCEPTION.append(stringappend)\n",
        "\n",
        "        return [False]\n",
        "        pass\n",
        "\n",
        "    if register_Status[regster_name]!=0:\n",
        "        # print(\"register DEBUG2\")\n",
        "        if regster_name not in map_table1.keys():\n",
        "            #mean not already renamed\n",
        "            # print(\"debug3\",regster_name)\n",
        "\n",
        "            # find name of register not occupied\n",
        "            for keys1 in temp_ereg:\n",
        "                if register_Status[keys1]==0:#register available\n",
        "                    reg_name_key = keys1\n",
        "                    break\n",
        "\n",
        "\n",
        "        # busy\n",
        "\n",
        "    if reg_name_key == \"\":\n",
        "        #no free register available thus stall\n",
        "        return [False]\n",
        "\n",
        "    return [True,reg_name_key]\n",
        "\n"
      ],
      "execution_count": 73,
      "outputs": []
    },
    {
      "cell_type": "code",
      "metadata": {
        "id": "9rVBt4_PS2pW",
        "colab_type": "code",
        "colab": {}
      },
      "source": [
        ""
      ],
      "execution_count": 73,
      "outputs": []
    },
    {
      "cell_type": "code",
      "metadata": {
        "id": "fPo1cFf5W46F",
        "colab_type": "code",
        "colab": {}
      },
      "source": [
        "LENTH_OFINSTRUCTION_STATUS = len(opc_odes1)\n",
        "\n",
        "SELECTED_OPERANDS_LIST  = [\"1000\",\"1001\",\"1110\",\"1111\"]\n",
        "\n",
        "LATEST_OPERATION_ENTERED = 0\n",
        "completed_VAR = True\n",
        "operation_queue = False\n",
        "\n",
        "\n"
      ],
      "execution_count": 74,
      "outputs": []
    },
    {
      "cell_type": "markdown",
      "metadata": {
        "id": "0l93I3NXwju1",
        "colab_type": "text"
      },
      "source": [
        "<h2>Stuff</h2>\n"
      ]
    },
    {
      "cell_type": "code",
      "metadata": {
        "id": "kMFI4N07W48k",
        "colab_type": "code",
        "colab": {
          "base_uri": "https://localhost:8080/",
          "height": 243
        },
        "outputId": "1e0c36a2-bc23-4bd0-8538-e051571830e7"
      },
      "source": [
        "\n",
        "#this while loop will run unti\n",
        "\n",
        "# print(opc_odes1)\n",
        "while completed_VAR:\n",
        "\n",
        "\n",
        "    CLOCK_VAR+=1\n",
        "\n",
        "    for trarvar in range(LENTH_OFINSTRUCTION_STATUS):\n",
        "        # print((type)(opc_odes1[trarvar]))\n",
        "\n",
        "        if trarvar>=CLOCK_VAR:\n",
        "            #break for loop\n",
        "            break\n",
        "        elif opc_odes1[trarvar] in SELECTED_OPERANDS_LIST:\n",
        "            if opc_odes1[trarvar]==\"1000\":\n",
        "                # HALT\n",
        "                clear()\n",
        "                print(\"reached\")\n",
        "                completed_VAR = False #program halted\n",
        "                RAISEEXCEPTION.append(\"HALT encountered, program HALTED\")\n",
        "                # sys.exit(\"Program Halted \")\n",
        "                # for load store complement\n",
        "\n",
        "            else:\n",
        "                #issue\n",
        "\n",
        "\n",
        "\n",
        "                if instruction_status[trarvar]['started'] == 0:\n",
        "\n",
        "                    continue_WAW_var_allowed = True\n",
        "                    continue_WAR_var_allowed = True\n",
        "                    continue_WAR = check_War(reservation_Station,res_totherinputs[trarvar][0],trarvar) #which register name and operation\n",
        "                    continue_WAR_var_allowed = continue_WAR[0]\n",
        "                    # if #renamed by WAR function\n",
        "\n",
        "\n",
        "\n",
        "\n",
        "                    if len(continue_WAR)==4:\n",
        "                        #renamed by WAR method\n",
        "                        # if register_Status[res_totherinputs[trarvar][0]]!=0:#the register is not free\n",
        "                        #     map_table_WAW[res_totherinputs[trarvar][0]] = continue_WAR[1] #map new reg name in WAW table\n",
        "                        #     continue_WAW_var_allowed = True #allowed\n",
        "                        if continue_WAR[0]:#renamed\n",
        "                            continue_WAW_var_allowed = True\n",
        "                            continue_WAW = []\n",
        "                            pass\n",
        "\n",
        "                    else:\n",
        "                        continue_WAW = check_Waw(register_Status,map_table,res_totherinputs[trarvar][0])\n",
        "                        continue_WAW.append(trarvar)#added\n",
        "                        continue_WAW_var_allowed = continue_WAW[0]\n",
        "\n",
        "                        # continue_WAR = [True]#define var\n",
        "\n",
        "\n",
        "                        ## DEBUG:\n",
        "                        # if trarvar ==1 :\n",
        "                        #     print(\"DEBUGAY\")\n",
        "                        #     print(continue_WAW)\n",
        "\n",
        "                    if continue_WAR_var_allowed and continue_WAW_var_allowed:#allowed register renaming\n",
        "                        # print(\"DEBUGE2\")\n",
        "                        if len(continue_WAR)==4:\n",
        "                            map_table[res_totherinputs[trarvar][0]] = [continue_WAR[1],continue_WAR[2],continue_WAR[3]]#new name and the list of read operation that new to be completed bfore write\n",
        "                            #new reg\n",
        "                        elif len(continue_WAW)==3:\n",
        "                            map_table[res_totherinputs[trarvar][0]] = [continue_WAW[1],trarvar]\n",
        "                            # print(\"DEBIG5\",continue_WAW)\n",
        "                            # print(\"DEBIG6\",continue_WAR)\n",
        "\n",
        "                            pass\n",
        "                        # # if len(continue_WAW)==3:\n",
        "                        #     pass\n",
        "                        # f a matching functional unit is available, issue the instruction.\n",
        "\n",
        "                        if reservation_Station[instruction_status[trarvar]['key']]['is']['busy'] ==0 :# issue is not busy   then can only be issue done and writing register is free\n",
        "                            if register_Status[res_totherinputs[trarvar][0]]==0 or (res_totherinputs[trarvar][0] in map_table.keys() and  len(map_table[res_totherinputs[trarvar][0]])==2  and trarvar>=map_table[res_totherinputs[trarvar][0]][1] ) :\n",
        "                                # and trarvar>map_table[res_totherinputs[trarvar][0]][1]\n",
        "                                    # print(\"DEBUG!Q\")\n",
        "\n",
        "                                instruction_status[trarvar]['started'] = 1\n",
        "                                instruction_status[trarvar]['issue'] = CLOCK_VAR\n",
        "                                instruction_status[trarvar]['completed_yet'] -= 1\n",
        "\n",
        "                                #declare hardware busy\n",
        "                                # reservation_Station[res_totherinputs[trarvar]] = [instruction_status[trarvar]['key'],trarvar]\n",
        "                                #save register in which is has to write\n",
        "                                # if new register available\n",
        "                                if len(continue_WAR)==4:\n",
        "                                    register_Status[continue_WAR[1]] = [instruction_status[trarvar]['key'],trarvar]\n",
        "                                elif len(continue_WAW)==3:\n",
        "                                    # print(\"DEBIG6\")\n",
        "                                    register_Status[continue_WAW[1]] = [instruction_status[trarvar]['key'],trarvar]\n",
        "                                    pass\n",
        "\n",
        "                                else:\n",
        "                                    register_Status[res_totherinputs[trarvar][0]] = [instruction_status[trarvar]['key'],trarvar]\n",
        "\n",
        "                                reservation_Station[instruction_status[trarvar]['key']]['is']['busy'] = 1 #now busy\n",
        "\n",
        "\n",
        "\n",
        "                                reservation_Station[instruction_status[trarvar]['key']]['is']['op'] = trarvar\n",
        "                                reservation_Station[instruction_status[trarvar]['key']]['is']['readytoexec'] = 1\n",
        "                                # reservation_Station[instruction_status[trarvar]['key']]['busy']\n",
        "\n",
        "\n",
        "\n",
        "\n",
        "\n",
        "\n",
        "                                if res_totherinputs[trarvar][1].isdigit()==False:\n",
        "\n",
        "                                    if register_Status[res_totherinputs[trarvar][1]] == 0: #register available\n",
        "\n",
        "                                        reservation_Station[instruction_status[trarvar]['key']]['is']['vj'] = res_totherinputs[trarvar][1] #the name of register which is available\n",
        "                                        reservation_Station[instruction_status[trarvar]['key']]['is']['qj'] = 0 #no one has occupied it\n",
        "                                        # reservation_Station[instruction_status[trarvar]['key']]['vj'].append(res_totherinputs[trarvar][1]) #the name of register which is available\n",
        "                                        # reservation_Station[instruction_status[trarvar]['key']]['qj'].append(0)  #no one has occupied it\n",
        "                                        # register renamed\n",
        "                                        if res_totherinputs[trarvar][1] in map_table.keys():\n",
        "                                            if len(map_table[res_totherinputs[trarvar][1]])==3:\n",
        "                                                if trarvar in map_table[res_totherinputs[trarvar][1]][1]:\n",
        "                                                    reservation_Station[instruction_status[trarvar]['key']]['is']['vj'] = map_table[res_totherinputs[trarvar][1]][0] #the name of register which is available\n",
        "                                                    reservation_Station[instruction_status[trarvar]['key']]['is']['qj'] = 0 #no one has occupied it\n",
        "\n",
        "                                                pass\n",
        "                                            pass\n",
        "\n",
        "                                    else:\n",
        "                                        # reservation_Station[instruction_status[trarvar]['key']]['vj'].append(0) #nothing means hardare is not free\n",
        "                                        # reservation_Station[instruction_status[trarvar]['key']]['qj'].append(register_Status[res_totherinputs[trarvar][1]][1])  #which operation except that operation no one else can access this\n",
        "                                        # check\n",
        "                                        reservation_Station[instruction_status[trarvar]['key']]['is']['vj'] = 0 #nothing means hardare is not free\n",
        "                                        reservation_Station[instruction_status[trarvar]['key']]['is']['qj'] = register_Status[res_totherinputs[trarvar][1]][1]  #which operation except that operation no one else can access this\n",
        "\n",
        "\n",
        "                                # else if digit then none of our concern\n",
        "\n",
        "\n",
        "\n",
        "\n",
        "                else:\n",
        "                    #writeback stage\n",
        "                    if instruction_status[trarvar]['completed_yet'] ==1:\n",
        "                        print(\"DEBUGREACHED HERE1\")\n",
        "\n",
        "\n",
        "                        # execution to writeback\n",
        "                        reg1 = res_totherinputs[trarvar][1]\n",
        "\n",
        "                        if reg1.isdigit()==False:\n",
        "                            if (isinstance((register_Status[res_totherinputs[trarvar][1]]),list)):\n",
        "                                # add WAR HAZARD renaming\n",
        "\n",
        "                                temp_passvar = (register_Status[res_totherinputs[trarvar][1]][1]==trarvar)\n",
        "\n",
        "\n",
        "                            else :\n",
        "                                if (isinstance((register_Status[res_totherinputs[trarvar][1]]),int)):\n",
        "                                    temp_passvar = (register_Status[res_totherinputs[trarvar][1]]==0)\n",
        "\n",
        "\n",
        "\n",
        "                            # Check WAR Hazard and register renaming access for register who are allowed to read it\n",
        "\n",
        "\n",
        "                            if (reg1 in map_table.keys()):\n",
        "                                if len(map_table[reg1])==3:\n",
        "\n",
        "                                    temp_passvar2 = trarvar in map_table[reg1][1]#list of operations allowed\n",
        "                                    temp_passvar = (temp_passvar2 and temp_passvar)\n",
        "\n",
        "\n",
        "                                    if temp_passvar2==False:#first renamed register\n",
        "                                        if isinstance(register_Status[map_table[reg1][0]],list):\n",
        "\n",
        "                                            temper1 = (instruction_status[register_Status[map_table[reg1][0]][1]]['completed_yet']==-1) #means renamed reg are done\n",
        "                                            # temper2 = instruction_status[register_Status[map_table[reg2][0]][1]]==-1 #means renamed reg are done\n",
        "                                            temp_passvar = (temper1 and temp_passvar)\n",
        "\n",
        "\n",
        "                                elif len(map_table[reg1])==2:\n",
        "                                    if isinstance(register_Status[map_table[reg1][0]],list) :\n",
        "\n",
        "                                        temp_passvar2 = (instruction_status[register_Status[map_table[reg1][0]][1]]['completed_yet']==-1)#means renamed register are done\n",
        "                                        temp_passvar = temp_passvar and temp_passvar2\n",
        "\n",
        "\n",
        "\n",
        "                        else:\n",
        "                            temp_passvar = True\n",
        "                            pass\n",
        "\n",
        "\n",
        "\n",
        "\n",
        "\n",
        "\n",
        "\n",
        "                        # check whether writing register new register renamed can handle same operation\n",
        "                        if isinstance(register_Status[res_totherinputs[trarvar][0]],int):\n",
        "\n",
        "                            #check if not renamed\n",
        "\n",
        "\n",
        "                            if res_totherinputs[trarvar][0] in map_table.keys():\n",
        "                                # the register is being used and renamed and being written on\n",
        "                                # temp_passvar123 = map_table\n",
        "\n",
        "                                # renamed for WAR\n",
        "                                if len(map_table[res_totherinputs[trarvar][0]])==3:\n",
        "                                    if register_Status[map_table[res_totherinputs[trarvar][0]][0]][1]==trarvar:\n",
        "                                        temp_passvar = temp_passvar and True\n",
        "\n",
        "                                    else:\n",
        "                                        temp_passvar = temp_passvar and False\n",
        "\n",
        "                                elif len(map_table[res_totherinputs[trarvar][0]])==2:\n",
        "                                    if map_table[res_totherinputs[trarvar][0]][1] == trarvar:\n",
        "                                        temp_passvar = temp_passvar and True\n",
        "\n",
        "                                        pass\n",
        "                                    else:\n",
        "                                        temp_passvar = temp_passvar and False\n",
        "\n",
        "                            # else:\n",
        "                            #     case is not possible\n",
        "\n",
        "\n",
        "                        elif isinstance(register_Status[res_totherinputs[trarvar][0]],list):\n",
        "                            if register_Status[res_totherinputs[trarvar][0]][1]==trarvar:\n",
        "                                temp_passvar = temp_passvar and True\n",
        "                                pass\n",
        "                            else:\n",
        "                                temp_passvar = temp_passvar and False\n",
        "                                pass\n",
        "\n",
        "\n",
        "\n",
        "                        #check WAW renaming\n",
        "\n",
        "\n",
        "                        if temp_passvar :\n",
        "                            print(\"DEBUGE2\")\n",
        "                            if ((isinstance(register_Status[res_totherinputs[trarvar][0]],list)) and (register_Status[res_totherinputs[trarvar][0]][1]==trarvar)) or (isinstance(register_Status[res_totherinputs[trarvar][0]],int) and ( register_Status[map_table[res_totherinputs[trarvar][0]][0]][1]==trarvar  )):\n",
        "\n",
        "\n",
        "\n",
        "\n",
        "                                if reservation_Station[instruction_status[trarvar]['key']]['wb']['busy'] == 1 and reservation_Station[instruction_status[trarvar]['key']]['wb']['op']==trarvar:#only that hardware\n",
        "                                    #hardware is fre\n",
        "                                    # print(\"DEBUGREACHED HERE\")\n",
        "\n",
        "                                    instruction_status[trarvar]['writeback'] = CLOCK_VAR\n",
        "                                    instruction_status[trarvar]['completed_yet'] -= 1\n",
        "\n",
        "\n",
        "\n",
        "\n",
        "                        # #writeback\n",
        "                        # if register_Status[res_totherinputs[trarvar][1]]==0 and register_Status[res_totherinputs[trarvar][2]]==0:\n",
        "                        #\n",
        "                        #     instruction_status[trarvar]['issue'] = CLOCK_VAR\n",
        "                        #     instruction_status[trarvar]['completed_yet'] -= 1\n",
        "                        #\n",
        "                        #\n",
        "                        #\n",
        "                        #     register_Status[res_totherinputs[trarvar][0]] = 0 # hardware is completed and freed\n",
        "\n",
        "\n",
        "\n",
        "\n",
        "\n",
        "                        #excution +\n",
        "                    elif instruction_status[trarvar]['completed_yet']>0:\n",
        "                        #check is hardware not busy\n",
        "\n",
        "                        #dont allow execution if renamed register is not in list\n",
        "\n",
        "                        # instruction_status\n",
        "                        reg1 = res_totherinputs[trarvar][1]\n",
        "\n",
        "                        if reg1.isdigit()==False:\n",
        "                            if (isinstance((register_Status[res_totherinputs[trarvar][1]]),list)):\n",
        "                                # add WAR HAZARD renaming\n",
        "\n",
        "                                temp_passvar = (register_Status[res_totherinputs[trarvar][1]][1]==trarvar)\n",
        "\n",
        "\n",
        "                            else :\n",
        "                                if (isinstance((register_Status[res_totherinputs[trarvar][1]]),int)):\n",
        "                                    temp_passvar = (register_Status[res_totherinputs[trarvar][1]]==0)\n",
        "\n",
        "\n",
        "\n",
        "                            # Check WAR Hazard and register renaming access for register who are allowed to read it\n",
        "\n",
        "\n",
        "\n",
        "\n",
        "\n",
        "\n",
        "                            if (reg1 in map_table.keys()):\n",
        "                                if len(map_table[reg1])==3:\n",
        "\n",
        "                                    temp_passvar2 = trarvar in map_table[reg1][1]#list of operations allowed\n",
        "                                    temp_passvar = (temp_passvar2 and temp_passvar)\n",
        "\n",
        "\n",
        "                                    if temp_passvar2==False:#first renamed register\n",
        "                                        if isinstance(register_Status[map_table[reg1][0]],list):\n",
        "\n",
        "                                            temper1 = (instruction_status[register_Status[map_table[reg1][0]][1]]['completed_yet']==-1) #means renamed reg are done\n",
        "                                            # temper2 = instruction_status[register_Status[map_table[reg2][0]][1]]==-1 #means renamed reg are done\n",
        "                                            temp_passvar = (temper1 and temp_passvar)\n",
        "\n",
        "\n",
        "                                elif len(map_table[reg1])==2:\n",
        "                                    if isinstance(register_Status[map_table[reg1][0]],list) :\n",
        "\n",
        "                                        temp_passvar2 = (instruction_status[register_Status[map_table[reg1][0]][1]]['completed_yet']==-1)#means renamed register are done\n",
        "                                        temp_passvar = temp_passvar and temp_passvar2\n",
        "\n",
        "\n",
        "\n",
        "\n",
        "\n",
        "\n",
        "\n",
        "                        else:\n",
        "                            temp_passvar = True\n",
        "                            pass\n",
        "\n",
        "\n",
        "                        # print(trarvar,temp_passvar)\n",
        "                        if temp_passvar :\n",
        "                            # print(\"DEBUGE2\")\n",
        "                            if (res_totherinputs[trarvar][0] in map_table.keys() and len(map_table[res_totherinputs[trarvar][0]])==2 and map_table[res_totherinputs[trarvar][0]][1] == trarvar ) or ((isinstance(register_Status[res_totherinputs[trarvar][0]],list)) and (register_Status[res_totherinputs[trarvar][0]][1]==trarvar)) or (isinstance(register_Status[res_totherinputs[trarvar][0]],int)and ( register_Status[map_table[res_totherinputs[trarvar][0]][0]][1]==trarvar  )):\n",
        "\n",
        "                                # check if ex to\n",
        "                                # print(\"fetish\",temp_passvar,trarvar)\n",
        "\n",
        "\n",
        "                                if reservation_Station[instruction_status[trarvar]['key']]['ex']['busy'] == 1 and reservation_Station[instruction_status[trarvar]['key']]['ex']['op'] == trarvar :#excution unit of hardware is free or being used by that instruction\n",
        "                                # only if busy and is used by that instruction only and execution is available\n",
        "                                    instruction_status[trarvar]['completed_yet'] -=1\n",
        "                                    instruction_status[trarvar]['exec'] =CLOCK_VAR\n",
        "                                    # reservation_Station[instruction_status[trarvar]['key']]['exechandling'][0] = trarvar\n",
        "\n",
        "                                    # mark for write back\n",
        "                                    if instruction_status[trarvar]['completed_yet'] ==1 :\n",
        "                                        reservation_Station[instruction_status[trarvar]['key']]['ex']['readytowrite'] = 1\n",
        "\n",
        "\n",
        "                                        # free execution statement\n",
        "                                        # make case when 2 so that you free up execute state of hardware\n",
        "\n",
        "\n",
        "\n",
        "\n",
        "\n",
        "\n",
        "\n",
        "\n",
        "\n",
        "\n",
        "                    if instruction_status[trarvar]['completed_yet'] == 0:\n",
        "                        #nothing to do instruction in completed\n",
        "                        #if hardware busy due to this traverse then declare it free\n",
        "                        # free write back\n",
        "\n",
        "                        reservation_Station[instruction_status[trarvar]['key']]['wb']['busy'] = 0\n",
        "\n",
        "                        reservation_Station[instruction_status[trarvar]['key']]['wb']['op'] = -1\n",
        "                        reservation_Station[instruction_status[trarvar]['key']]['wb']['vj'] = 0\n",
        "                        reservation_Station[instruction_status[trarvar]['key']]['wb']['vk'] = 0\n",
        "                        reservation_Station[instruction_status[trarvar]['key']]['wb']['qj'] = 0\n",
        "                        reservation_Station[instruction_status[trarvar]['key']]['wb']['qk'] = 0\n",
        "                        instruction_status[trarvar]['completed_yet'] = -1\n",
        "                        #\n",
        "                        #\n",
        "                        #free hardware\n",
        "                        # free renamed hardware\n",
        "                        doubleifpor= True\n",
        "                        if res_totherinputs[trarvar][0] in map_table.keys():\n",
        "                            # print(\"DEBUG5 Reached\",(map_table[res_totherinputs[trarvar][0]][0]))\n",
        "                            if register_Status[res_totherinputs[trarvar][0]]!=0:\n",
        "                                if register_Status[res_totherinputs[trarvar][0]][1]==trarvar:\n",
        "                                    temmmpempstr  = \"Write register done \"+str(res_totherinputs[trarvar][0])\n",
        "                                    RAISEEXCEPTION.append(temmmpempstr)\n",
        "                                    register_Status[res_totherinputs[trarvar][0]]=0\n",
        "                                    doubleifpor = False\n",
        "\n",
        "\n",
        "                                pass\n",
        "                            elif isinstance(register_Status[map_table[res_totherinputs[trarvar][0]][0]],list):\n",
        "\n",
        "                                if register_Status[map_table[res_totherinputs[trarvar][0]][0]][1] == trarvar:\n",
        "                                    temmmpempstr  = \"BUFFER TRANSFER FROM to \"+str(map_table[res_totherinputs[trarvar][0]][0])+\" to its original register\"\n",
        "                                    RAISEEXCEPTION.append(temmmpempstr)\n",
        "                                    register_Status[map_table[res_totherinputs[trarvar][0]][0]] = 0\n",
        "                                    doubleifpor = False\n",
        "\n",
        "                        if doubleifpor:\n",
        "                            register_Status[res_totherinputs[trarvar][0]]=0\n",
        "                        # register_Status[res_totherinputs[trarvar][2]]=0\n",
        "\n",
        "\n",
        "\n",
        "\n",
        "\n",
        "\n",
        "\n",
        "\n",
        "\n",
        "\n",
        "\n",
        "\n",
        "\n",
        "\n",
        "\n",
        "\n",
        "\n",
        "\n",
        "\n",
        "\n",
        "\n",
        "\n",
        "\n",
        "\n",
        "\n",
        "\n",
        "\n",
        "\n",
        "\n",
        "\n",
        "\n",
        "\n",
        "\n",
        "\n",
        "\n",
        "\n",
        "\n",
        "\n",
        "\n",
        "\n",
        "\n",
        "\n",
        "\n",
        "\n",
        "\n",
        "\n",
        "\n",
        "\n",
        "\n",
        "\n",
        "\n",
        "\n",
        "\n",
        "\n",
        "\n",
        "\n",
        "\n",
        "\n",
        "\n",
        "\n",
        "\n",
        "\n",
        "\n",
        "\n",
        "\n",
        "\n",
        "\n",
        "\n",
        "\n",
        "\n",
        "\n",
        "\n",
        "\n",
        "\n",
        "\n",
        "\n",
        "\n",
        "\n",
        "\n",
        "\n",
        "\n",
        "\n",
        "\n",
        "\n",
        "\n",
        "\n",
        "\n",
        "\n",
        "\n",
        "\n",
        "\n",
        "#all instruction except 2 input\n",
        "\n",
        "\n",
        "\n",
        "\n",
        "        elif instruction_status[trarvar]['completed_yet']!=-1 : #the instruction is not done\n",
        "\n",
        "\n",
        "            # print(\"noton\",trarvar)\n",
        "\n",
        "            if instruction_status[trarvar]['started'] == 0:\n",
        "\n",
        "                continue_WAW_var_allowed = True\n",
        "                continue_WAR_var_allowed = True\n",
        "                continue_WAR = check_War(reservation_Station,res_totherinputs[trarvar][0],trarvar) #which register name and operation\n",
        "                continue_WAR_var_allowed = continue_WAR[0]\n",
        "                # if #renamed by WAR function\n",
        "\n",
        "\n",
        "\n",
        "\n",
        "                if len(continue_WAR)==4:\n",
        "                    #renamed by WAR method\n",
        "                    # if register_Status[res_totherinputs[trarvar][0]]!=0:#the register is not free\n",
        "                    #     map_table_WAW[res_totherinputs[trarvar][0]] = continue_WAR[1] #map new reg name in WAW table\n",
        "                    #     continue_WAW_var_allowed = True #allowed\n",
        "                    if continue_WAR[0]:#renamed\n",
        "                        continue_WAW_var_allowed = True\n",
        "                        continue_WAW = []\n",
        "                        pass\n",
        "\n",
        "                else:\n",
        "                    continue_WAW = check_Waw(register_Status,map_table,res_totherinputs[trarvar][0])\n",
        "                    continue_WAW.append(trarvar)#added\n",
        "                    continue_WAW_var_allowed = continue_WAW[0]\n",
        "\n",
        "                    # continue_WAR = [True]#define var\n",
        "\n",
        "\n",
        "                    ## DEBUG:\n",
        "                    # if trarvar ==1 :\n",
        "                    #     print(\"DEBUGAY\")\n",
        "                    #     print(continue_WAW)\n",
        "\n",
        "                if continue_WAR_var_allowed and continue_WAW_var_allowed:#allowed register renaming\n",
        "                    # print(\"DEBUGE2\")\n",
        "                    if len(continue_WAR)==4:\n",
        "                        if res_totherinputs[trarvar][0] not in map_table.keys():\n",
        "                            map_table[res_totherinputs[trarvar][0]] = [continue_WAR[1],continue_WAR[2],continue_WAR[3]]#new name and the list of read operation that new to be completed bfore write\n",
        "                        #new reg\n",
        "                    elif len(continue_WAW)==3:\n",
        "                        if res_totherinputs[trarvar][0] not in map_table.keys():\n",
        "                            map_table[res_totherinputs[trarvar][0]] = [continue_WAW[1],trarvar]\n",
        "\n",
        "\n",
        "                        pass\n",
        "                    # # if len(continue_WAW)==3:\n",
        "                    #     pass\n",
        "                    # f a matching functional unit is available, issue the instruction.\n",
        "\n",
        "                    if reservation_Station[instruction_status[trarvar]['key']]['is']['busy'] ==0 :# issue is not busy   then can only be issue done and writing register is free\n",
        "                        if register_Status[res_totherinputs[trarvar][0]]==0 or (res_totherinputs[trarvar][0] in map_table.keys() and  len(map_table[res_totherinputs[trarvar][0]])==2  and trarvar>=map_table[res_totherinputs[trarvar][0]][1] ) :\n",
        "                            # and trarvar>map_table[res_totherinputs[trarvar][0]][1]\n",
        "                                # print(\"DEBUG!Q\")\n",
        "\n",
        "                            instruction_status[trarvar]['started'] = 1\n",
        "                            instruction_status[trarvar]['issue'] = CLOCK_VAR\n",
        "                            instruction_status[trarvar]['completed_yet'] -= 1\n",
        "\n",
        "                            #declare hardware busy\n",
        "                            # reservation_Station[res_totherinputs[trarvar]] = [instruction_status[trarvar]['key'],trarvar]\n",
        "                            #save register in which is has to write\n",
        "                            # if new register available\n",
        "                            if len(continue_WAR)==4:\n",
        "                                register_Status[continue_WAR[1]] = [instruction_status[trarvar]['key'],trarvar]\n",
        "                            elif len(continue_WAW)==3:\n",
        "                                # print(\"DEBIG6\")\n",
        "                                register_Status[continue_WAW[1]] = [instruction_status[trarvar]['key'],trarvar]\n",
        "                                pass\n",
        "\n",
        "                            else:\n",
        "                                register_Status[res_totherinputs[trarvar][0]] = [instruction_status[trarvar]['key'],trarvar]\n",
        "\n",
        "                            reservation_Station[instruction_status[trarvar]['key']]['is']['busy'] = 1 #now busy\n",
        "\n",
        "\n",
        "\n",
        "                            reservation_Station[instruction_status[trarvar]['key']]['is']['op'] = trarvar\n",
        "                            reservation_Station[instruction_status[trarvar]['key']]['is']['readytoexec'] = 1\n",
        "                            # reservation_Station[instruction_status[trarvar]['key']]['busy']\n",
        "\n",
        "\n",
        "\n",
        "\n",
        "\n",
        "\n",
        "\n",
        "\n",
        "                            if register_Status[res_totherinputs[trarvar][1]] == 0: #register available\n",
        "\n",
        "                                reservation_Station[instruction_status[trarvar]['key']]['is']['vj'] = res_totherinputs[trarvar][1] #the name of register which is available\n",
        "                                reservation_Station[instruction_status[trarvar]['key']]['is']['qj'] = 0 #no one has occupied it\n",
        "                                # reservation_Station[instruction_status[trarvar]['key']]['vj'].append(res_totherinputs[trarvar][1]) #the name of register which is available\n",
        "                                # reservation_Station[instruction_status[trarvar]['key']]['qj'].append(0)  #no one has occupied it\n",
        "                                # register renamed\n",
        "                                if res_totherinputs[trarvar][1] in map_table.keys():\n",
        "                                    if len(map_table[res_totherinputs[trarvar][1]])==3:\n",
        "                                        if trarvar in map_table[res_totherinputs[trarvar][1]][1]:\n",
        "                                            reservation_Station[instruction_status[trarvar]['key']]['is']['vj'] = map_table[res_totherinputs[trarvar][1]][0] #the name of register which is available\n",
        "                                            reservation_Station[instruction_status[trarvar]['key']]['is']['qj'] = 0 #no one has occupied it\n",
        "\n",
        "                                        pass\n",
        "                                    pass\n",
        "\n",
        "                            else:\n",
        "                                # reservation_Station[instruction_status[trarvar]['key']]['vj'].append(0) #nothing means hardare is not free\n",
        "                                # reservation_Station[instruction_status[trarvar]['key']]['qj'].append(register_Status[res_totherinputs[trarvar][1]][1])  #which operation except that operation no one else can access this\n",
        "                                # check\n",
        "                                reservation_Station[instruction_status[trarvar]['key']]['is']['vj'] = 0 #nothing means hardare is not free\n",
        "                                reservation_Station[instruction_status[trarvar]['key']]['is']['qj'] = register_Status[res_totherinputs[trarvar][1]][1]  #which operation except that operation no one else can access this\n",
        "\n",
        "\n",
        "\n",
        "\n",
        "\n",
        "                            #check second register now\n",
        "                            if register_Status[res_totherinputs[trarvar][2]] == 0: #register available\n",
        "                                reservation_Station[instruction_status[trarvar]['key']]['is']['vk'] = res_totherinputs[trarvar][2] #the name pf register which is available\n",
        "                                reservation_Station[instruction_status[trarvar]['key']]['is']['qk'] = 0 #no one has occupied it\n",
        "                                # reservation_Station[instruction_status[trarvar]['key']]['vk'].append(res_totherinputs[trarvar][2]) #the name pf register which is available\n",
        "                                # reservation_Station[instruction_status[trarvar]['key']]['qk'].append(0) #no one has occupied it\n",
        "                                if res_totherinputs[trarvar][2] in map_table.keys():\n",
        "                                    if len(map_table[res_totherinputs[trarvar][2]])==3:\n",
        "\n",
        "                                        if trarvar in map_table[res_totherinputs[trarvar][2]][1]:\n",
        "                                            reservation_Station[instruction_status[trarvar]['key']]['is']['vj'] = map_table[res_totherinputs[trarvar][2]][0] #the name of register which is available\n",
        "                                            reservation_Station[instruction_status[trarvar]['key']]['is']['qj'] = 0 #no one has occupied it\n",
        "\n",
        "                                            pass\n",
        "                                        pass\n",
        "\n",
        "                            else:\n",
        "\n",
        "                                reservation_Station[instruction_status[trarvar]['key']]['is']['vk'] = 0 #nothing means hardare is not free\n",
        "                                reservation_Station[instruction_status[trarvar]['key']]['is']['qk'] = register_Status[res_totherinputs[trarvar][2]][1]  #which operation except that operation no one else can access this\n",
        "                                # reservation_Station[instruction_status[trarvar]['key']]['vk'].append(0) #nothing means hardare is not free\n",
        "                                # reservation_Station[instruction_status[trarvar]['key']]['qk'].append(register_Status[res_totherinputs[trarvar][2]][1])  #which operation except that operation no one else can access this\n",
        "\n",
        "\n",
        "\n",
        "\n",
        "\n",
        "\n",
        "\n",
        "            else:\n",
        "                #writeback stage\n",
        "                if instruction_status[trarvar]['completed_yet'] ==1:\n",
        "                    print(\"DEBUGREACHED HERE1\")\n",
        "\n",
        "\n",
        "                    # execution to writeback\n",
        "\n",
        "                    # check WAW HAZARD if renaming took place\n",
        "\n",
        "\n",
        "                    if (isinstance((register_Status[res_totherinputs[trarvar][1]]),list) and isinstance((register_Status[res_totherinputs[trarvar][2]]),list)):\n",
        "                        temp_passvar = (register_Status[res_totherinputs[trarvar][1]][1]==trarvar and register_Status[res_totherinputs[trarvar][2]][1]==trarvar)\n",
        "\n",
        "                    else :\n",
        "                        if (isinstance((register_Status[res_totherinputs[trarvar][1]]),int) and isinstance((register_Status[res_totherinputs[trarvar][2]]),int)):\n",
        "                            temp_passvar = (register_Status[res_totherinputs[trarvar][1]]==0 and register_Status[res_totherinputs[trarvar][2]]==0)\n",
        "\n",
        "                        else:\n",
        "                            temp_passvar = False\n",
        "\n",
        "                    # if temp_passvar and register_Status[res_totherinputs[trarvar][0]][1]==trarvar:\n",
        "                        # print(\"DEBUGE2\")\n",
        "\n",
        "\n",
        "                    # Check WAR Hazard and register renaming access for register who are allowed to read it\n",
        "\n",
        "                    reg1 = res_totherinputs[trarvar][1]\n",
        "                    reg2 = res_totherinputs[trarvar][2]\n",
        "                    #check map table if register renaming has taken place\n",
        "                    # if map table has key\n",
        "                    if (reg1 in map_table.keys()) or (reg2 in map_table.keys()):\n",
        "                        if (reg1 in map_table.keys()) and (reg2 in map_table.keys()):\n",
        "                            if len(map_table[reg1])==3 and len(map_table[reg2])==3:\n",
        "                                temp_passvar1 = trarvar in map_table[reg1][1]\n",
        "                                temp_passvar2 = trarvar in map_table[reg2][1]\n",
        "                                temp_passvar = temp_passvar1 and temp_passvar2\n",
        "                                # if both are in map table and both renamed register are done processing\n",
        "                                if temp_passvar1==False and temp_passvar2==False:\n",
        "                                    temper1 = instruction_status[register_Status[map_table[reg1][0]][1]]['completed_yet']==-1 #means renamed reg are done\n",
        "                                    temper2 = instruction_status[register_Status[map_table[reg2][0]][1]]['completed_yet']==-1 #means renamed reg are done\n",
        "                                    temp_passvar = temper1 and temper2\n",
        "\n",
        "\n",
        "\n",
        "                        elif (reg1 in map_table.keys()):\n",
        "                            if len(map_table[reg1])==3:\n",
        "                                temp_passvar2 = trarvar in map_table[reg1][1]#list of operations allowed\n",
        "                                if isinstance(register_Status[reg2],int):\n",
        "                                    temp_passvar = (temp_passvar2 and (register_Status[reg2]==0))\n",
        "\n",
        "                                else:\n",
        "                                    temp_passvar = (temp_passvar2 and (register_Status[reg2][1]==trarvar))\n",
        "\n",
        "                                if temp_passvar2==False:#first renamed register\n",
        "                                    if isinstance(register_Status[map_table[reg1][0]],list):\n",
        "\n",
        "                                        temper1 = (instruction_status[register_Status[map_table[reg1][0]][1]]['completed_yet']==-1) #means renamed reg are done\n",
        "                                        # temper2 = instruction_status[register_Status[map_table[reg2][0]][1]]==-1 #means renamed reg are done\n",
        "                                        if isinstance(register_Status[reg2],int):\n",
        "                                            temp_passvar = (temper1 and (register_Status[reg2]==0))\n",
        "\n",
        "                                        else:\n",
        "                                            temp_passvar = (temper1 and (register_Status[reg2][1]==trarvar))\n",
        "\n",
        "                                    else:\n",
        "                                        if isinstance(register_Status[reg2],int):\n",
        "                                            temp_passvar = (register_Status[reg2]==0)\n",
        "\n",
        "                                        else:\n",
        "                                            temp_passvar = (register_Status[reg2][1]==trarvar)\n",
        "                            elif len(map_table[reg1])==2:\n",
        "\n",
        "\n",
        "\n",
        "                                if isinstance(register_Status[map_table[reg1][0]],list) :\n",
        "\n",
        "                                    temp_passvar2 = (instruction_status[register_Status[map_table[reg1][0]][1]]['completed_yet']==-1)#means renamed register are done\n",
        "                                    if isinstance(register_Status[reg2],int):\n",
        "                                        temp_passvar = (register_Status[reg2]==0)and temp_passvar2\n",
        "                                        pass\n",
        "                                    else:\n",
        "                                        temp_passvar = (register_Status[reg2][1]==trarvar)and temp_passvar2\n",
        "\n",
        "                                else:\n",
        "                                    if isinstance(register_Status[reg2],int):\n",
        "                                        temp_passvar = (register_Status[reg2]==0)\n",
        "                                        pass\n",
        "                                    else:\n",
        "                                        temp_passvar = (register_Status[reg2][1]==trarvar)\n",
        "\n",
        "\n",
        "\n",
        "\n",
        "\n",
        "                        elif (reg2 in map_table.keys()):\n",
        "                            if len(map_table[reg2])==3:\n",
        "\n",
        "                                temp_passvar2 = trarvar in map_table[reg2][1]#list of operations allowed\n",
        "                                if isinstance(register_Status[reg1],int):\n",
        "                                    temp_passvar = (temp_passvar2 and (register_Status[reg1]==0))\n",
        "\n",
        "                                else:\n",
        "                                    temp_passvar = (temp_passvar2 and (register_Status[reg1][1]==trarvar))\n",
        "\n",
        "                                if temp_passvar2==False:#first renamed register\n",
        "                                    # print(\"DEBUGAY,\",register_Status[map_table[reg2][0]])\n",
        "                                    if isinstance(register_Status[map_table[reg2][0]],list):\n",
        "                                        temper1 = (instruction_status[register_Status[map_table[reg2][0]][1]]['completed_yet']==-1) #means renamed reg are done\n",
        "                                        # temper2 = instruction_status[register_Status[map_table[reg2][0]][1]]==-1 #means renamed reg are done\n",
        "                                        if isinstance(register_Status[reg1],int):\n",
        "                                            temp_passvar = (temper1 and (register_Status[reg1]==0))\n",
        "\n",
        "                                        else:\n",
        "                                            temp_passvar = (temper1 and (register_Status[reg1][1]==trarvar))\n",
        "                                    else:\n",
        "                                        if isinstance(register_Status[reg1],int):\n",
        "                                            temp_passvar = (register_Status[reg1]==0)\n",
        "\n",
        "                                        else:\n",
        "                                            temp_passvar = (register_Status[reg1][1]==trarvar)\n",
        "                                        pass\n",
        "\n",
        "\n",
        "                            elif len(map_table[reg2])==2:\n",
        "\n",
        "\n",
        "                                if isinstance(register_Status[map_table[reg2][0]],list) :\n",
        "\n",
        "                                    temp_passvar2 = (instruction_status[register_Status[map_table[reg2][0]][1]]['completed_yet']==-1)#means renamed register are done\n",
        "                                    if isinstance(register_Status[reg1],int):\n",
        "                                        temp_passvar = (register_Status[reg1]==0)and temp_passvar2\n",
        "                                        pass\n",
        "                                    else:\n",
        "                                        temp_passvar = (register_Status[reg1][1]==trarvar)and temp_passvar2\n",
        "\n",
        "                                else:\n",
        "                                    if isinstance(register_Status[reg1],int):\n",
        "                                        temp_passvar = (register_Status[reg1]==0)\n",
        "                                        pass\n",
        "                                    else:\n",
        "                                        temp_passvar = (register_Status[reg1][1]==trarvar)\n",
        "                                    pass\n",
        "\n",
        "\n",
        "\n",
        "\n",
        "\n",
        "\n",
        "                    # check whether writing register new register renamed can handle same operation\n",
        "                    if isinstance(register_Status[res_totherinputs[trarvar][0]],int):\n",
        "\n",
        "                        #check if not renamed\n",
        "\n",
        "\n",
        "                        if res_totherinputs[trarvar][0] in map_table.keys():\n",
        "                            # the register is being used and renamed and being written on\n",
        "                            # temp_passvar123 = map_table\n",
        "\n",
        "                            # renamed for WAR\n",
        "                            if len(map_table[res_totherinputs[trarvar][0]])==3:\n",
        "                                if register_Status[map_table[res_totherinputs[trarvar][0]][0]][1]==trarvar:\n",
        "                                    temp_passvar = temp_passvar and True\n",
        "\n",
        "                                else:\n",
        "                                    temp_passvar = temp_passvar and False\n",
        "\n",
        "                            elif len(map_table[res_totherinputs[trarvar][0]])==2:\n",
        "                                if map_table[res_totherinputs[trarvar][0]][1] == trarvar:\n",
        "                                    temp_passvar = temp_passvar and True\n",
        "\n",
        "                                else:\n",
        "                                    temp_passvar = temp_passvar and False\n",
        "                                    pass\n",
        "\n",
        "                                pass\n",
        "\n",
        "                        # else:\n",
        "                        #     case is not possible\n",
        "\n",
        "\n",
        "                    if isinstance(register_Status[res_totherinputs[trarvar][0]],list):\n",
        "                        if register_Status[res_totherinputs[trarvar][0]][1]==trarvar:\n",
        "                            temp_passvar = temp_passvar and True\n",
        "                            pass\n",
        "                        else:\n",
        "                            temp_passvar = temp_passvar and False\n",
        "                            pass\n",
        "\n",
        "\n",
        "\n",
        "                    #check WAW renaming\n",
        "\n",
        "\n",
        "\n",
        "\n",
        "\n",
        "\n",
        "\n",
        "                    if temp_passvar :\n",
        "\n",
        "                        if ((isinstance(register_Status[res_totherinputs[trarvar][0]],list)) and (register_Status[res_totherinputs[trarvar][0]][1]==trarvar)) or (isinstance(register_Status[res_totherinputs[trarvar][0]],int) and ( register_Status[map_table[res_totherinputs[trarvar][0]][0]][1]==trarvar  )):\n",
        "\n",
        "\n",
        "\n",
        "\n",
        "                            if reservation_Station[instruction_status[trarvar]['key']]['wb']['busy'] == 1 and reservation_Station[instruction_status[trarvar]['key']]['wb']['op']==trarvar:#only that hardware\n",
        "                                #hardware is free\n",
        "                                # print(\"DEBUGREACHED HERE\")\n",
        "\n",
        "                                instruction_status[trarvar]['writeback'] = CLOCK_VAR\n",
        "                                instruction_status[trarvar]['completed_yet'] -= 1\n",
        "\n",
        "\n",
        "\n",
        "\n",
        "\n",
        "\n",
        "\n",
        "\n",
        "\n",
        "                    #excution +\n",
        "                elif instruction_status[trarvar]['completed_yet']>0:\n",
        "                    #check is hardware not busy\n",
        "\n",
        "                    #dont allow execution if renamed register is not in list\n",
        "\n",
        "                    # instruction_status\n",
        "\n",
        "                    if (isinstance((register_Status[res_totherinputs[trarvar][1]]),list) and isinstance((register_Status[res_totherinputs[trarvar][2]]),list)):\n",
        "                        # add WAR HAZARD renaming\n",
        "\n",
        "                        temp_passvar = (register_Status[res_totherinputs[trarvar][1]][1]==trarvar and register_Status[res_totherinputs[trarvar][2]][1]==trarvar)\n",
        "\n",
        "\n",
        "                    else :\n",
        "                        if (isinstance((register_Status[res_totherinputs[trarvar][1]]),int) and isinstance((register_Status[res_totherinputs[trarvar][2]]),int)):\n",
        "                            temp_passvar = (register_Status[res_totherinputs[trarvar][1]]==0 and register_Status[res_totherinputs[trarvar][2]]==0)\n",
        "\n",
        "\n",
        "                        else:\n",
        "                            temp_passvar = False\n",
        "\n",
        "\n",
        "\n",
        "\n",
        "                    # Check WAR Hazard and register renaming access for register who are allowed to read it\n",
        "\n",
        "                    reg1 = res_totherinputs[trarvar][1]\n",
        "                    reg2 = res_totherinputs[trarvar][2]\n",
        "                    #check map table if register renaming has taken place\n",
        "                    # if map table has key\n",
        "                    if (reg1 in map_table.keys()) or (reg2 in map_table.keys()):\n",
        "                        if (reg1 in map_table.keys()) and (reg2 in map_table.keys()):\n",
        "                            if len(map_table[reg1])==3 and len(map_table[reg2])==3:\n",
        "\n",
        "                                temp_passvar1 = trarvar in map_table[reg1][1]\n",
        "                                temp_passvar2 = trarvar in map_table[reg2][1]\n",
        "                                temp_passvar = temp_passvar1 and temp_passvar2\n",
        "                                # if both are in map table and both renamed register are done processing\n",
        "                                if temp_passvar1==False and temp_passvar2==False:\n",
        "                                    temper1 = instruction_status[register_Status[map_table[reg1][0]][1]]['completed_yet']==-1 #means renamed reg are done\n",
        "                                    temper2 = instruction_status[register_Status[map_table[reg2][0]][1]]['completed_yet']==-1 #means renamed reg are done\n",
        "                                    temp_passvar = temper1 and temper2\n",
        "\n",
        "                                    pass\n",
        "\n",
        "                        elif (reg1 in map_table.keys()):\n",
        "                            if len(map_table[reg1])==3:\n",
        "\n",
        "                                temp_passvar2 = trarvar in map_table[reg1][1]#list of operations allowed\n",
        "                                if isinstance(register_Status[reg2],int):\n",
        "                                    temp_passvar = (temp_passvar2 and (register_Status[reg2]==0))\n",
        "\n",
        "                                else:\n",
        "                                    temp_passvar = (temp_passvar2 and (register_Status[reg2][1]==trarvar))\n",
        "\n",
        "                                if temp_passvar2==False:#first renamed register\n",
        "                                    if isinstance(register_Status[map_table[reg1][0]],list):\n",
        "\n",
        "                                        temper1 = (instruction_status[register_Status[map_table[reg1][0]][1]]['completed_yet']==-1) #means renamed reg are done\n",
        "                                        # temper2 = instruction_status[register_Status[map_table[reg2][0]][1]]==-1 #means renamed reg are done\n",
        "                                        if isinstance(register_Status[reg2],int):\n",
        "                                            temp_passvar = (temper1 and (register_Status[reg2]==0))\n",
        "\n",
        "                                        else:\n",
        "                                            temp_passvar = (temper1 and (register_Status[reg2][1]==trarvar))\n",
        "\n",
        "                                    else:\n",
        "                                        if isinstance(register_Status[reg2],int):\n",
        "                                            temp_passvar = (register_Status[reg2]==0)\n",
        "\n",
        "                                        else:\n",
        "                                            temp_passvar = (register_Status[reg2][1]==trarvar)\n",
        "\n",
        "                            elif len(map_table[reg1])==2:\n",
        "\n",
        "\n",
        "\n",
        "                                if isinstance(register_Status[map_table[reg1][0]],list) :\n",
        "\n",
        "                                    temp_passvar2 = (instruction_status[register_Status[map_table[reg1][0]][1]]['completed_yet']==-1)#means renamed register are done\n",
        "                                    if isinstance(register_Status[reg2],int):\n",
        "                                        temp_passvar = (register_Status[reg2]==0)and temp_passvar2\n",
        "                                        pass\n",
        "                                    else:\n",
        "                                        temp_passvar = (register_Status[reg2][1]==trarvar)and temp_passvar2\n",
        "\n",
        "                                else:\n",
        "                                    if isinstance(register_Status[reg2],int):\n",
        "                                        temp_passvar = (register_Status[reg2]==0)\n",
        "                                        pass\n",
        "                                    else:\n",
        "                                        temp_passvar = (register_Status[reg2][1]==trarvar)\n",
        "\n",
        "\n",
        "\n",
        "\n",
        "\n",
        "\n",
        "\n",
        "\n",
        "\n",
        "\n",
        "\n",
        "                        elif (reg2 in map_table.keys()):\n",
        "                            print(\"\\nCELL GAMES BY HETAP\",trarvar)\n",
        "                            if len(map_table[reg2])==3:\n",
        "\n",
        "                                temp_passvar2 = trarvar in map_table[reg2][1]#list of operations allowed\n",
        "                                if isinstance(register_Status[reg1],int):\n",
        "                                    temp_passvar = (temp_passvar2 and (register_Status[reg1]==0))\n",
        "\n",
        "                                else:\n",
        "                                    temp_passvar = (temp_passvar2 and (register_Status[reg1][1]==trarvar))\n",
        "                                # print\n",
        "                                if temp_passvar2==False:#first renamed register\n",
        "                                    # print(\"DEBUGAY,\",register_Status[map_table[reg2][0]])\n",
        "                                    if isinstance(register_Status[map_table[reg2][0]],list):\n",
        "                                        temper1 = (instruction_status[register_Status[map_table[reg2][0]][1]]['completed_yet']==-1) #means renamed reg are done\n",
        "                                        # temper2 = instruction_status[register_Status[map_table[reg2][0]][1]]==-1 #means renamed reg are done\n",
        "                                        if isinstance(register_Status[reg1],int):\n",
        "                                            temp_passvar = (temper1 and (register_Status[reg1]==0))\n",
        "                                            print(\"IT shoud be here value\",temp_passvar)\n",
        "\n",
        "                                        else:\n",
        "                                            temp_passvar = (temper1 and (register_Status[reg1][1]==trarvar))\n",
        "                                    else:\n",
        "                                        if isinstance(register_Status[reg1],int):\n",
        "                                            temp_passvar = (register_Status[reg1]==0)\n",
        "\n",
        "                                        else:\n",
        "                                            temp_passvar = (register_Status[reg1][1]==trarvar)\n",
        "                                        pass\n",
        "\n",
        "                            elif len(map_table[reg2])==2:\n",
        "                                # print(\"hold still\")\n",
        "                                # print(map_table[reg2])\n",
        "                                #\n",
        "                                # print(register_Status[map_table[reg2][0]])\n",
        "\n",
        "\n",
        "                                # print(register_Status[map_table[reg2][0]][1])\n",
        "\n",
        "                                if isinstance(register_Status[map_table[reg2][0]],list) :\n",
        "\n",
        "                                    temp_passvar2 = (instruction_status[register_Status[map_table[reg2][0]][1]]['completed_yet']==-1)#means renamed register are done\n",
        "                                    if isinstance(register_Status[reg1],int):\n",
        "                                        temp_passvar = (register_Status[reg1]==0)and temp_passvar2\n",
        "                                        pass\n",
        "                                    else:\n",
        "                                        temp_passvar = (register_Status[reg1][1]==trarvar)and temp_passvar2\n",
        "\n",
        "                                else:\n",
        "                                    if isinstance(register_Status[reg1],int):\n",
        "                                        temp_passvar = (register_Status[reg1]==0)\n",
        "                                        pass\n",
        "                                    else:\n",
        "                                        temp_passvar = (register_Status[reg1][1]==trarvar)\n",
        "                                    pass\n",
        "\n",
        "\n",
        "\n",
        "\n",
        "\n",
        "\n",
        "\n",
        "\n",
        "\n",
        "\n",
        "\n",
        "\n",
        "\n",
        "\n",
        "\n",
        "                    # print(trarvar,temp_passvar)\n",
        "                    if temp_passvar :\n",
        "                        # print(\"DEBUGE2\")\n",
        "                        if (res_totherinputs[trarvar][0] in map_table.keys() and len(map_table[res_totherinputs[trarvar][0]])==2 and map_table[res_totherinputs[trarvar][0]][1] == trarvar ) or ((isinstance(register_Status[res_totherinputs[trarvar][0]],list)) and (register_Status[res_totherinputs[trarvar][0]][1]==trarvar)) or (isinstance(register_Status[res_totherinputs[trarvar][0]],int)and ( register_Status[map_table[res_totherinputs[trarvar][0]][0]][1]==trarvar  )):\n",
        "\n",
        "                            # check if ex to\n",
        "                            # print(\"fetish\",temp_passvar,trarvar)\n",
        "\n",
        "\n",
        "                            if reservation_Station[instruction_status[trarvar]['key']]['ex']['busy'] == 1 and reservation_Station[instruction_status[trarvar]['key']]['ex']['op'] == trarvar :#excution unit of hardware is free or being used by that instruction\n",
        "                            # only if busy and is used by that instruction only and execution is available\n",
        "                                instruction_status[trarvar]['completed_yet'] -=1\n",
        "                                instruction_status[trarvar]['exec'] =CLOCK_VAR\n",
        "                                # reservation_Station[instruction_status[trarvar]['key']]['exechandling'][0] = trarvar\n",
        "\n",
        "                                # mark for write back\n",
        "                                if instruction_status[trarvar]['completed_yet'] ==1 :\n",
        "                                    reservation_Station[instruction_status[trarvar]['key']]['ex']['readytowrite'] = 1\n",
        "\n",
        "\n",
        "                                    # free execution statement\n",
        "                                    # make case when 2 so that you free up execute state of hardware\n",
        "\n",
        "\n",
        "\n",
        "\n",
        "\n",
        "\n",
        "\n",
        "\n",
        "\n",
        "\n",
        "                if instruction_status[trarvar]['completed_yet'] == 0:\n",
        "                    #nothing to do instruction in completed\n",
        "                    #if hardware busy due to this traverse then declare it free\n",
        "                    # free write back\n",
        "\n",
        "                    reservation_Station[instruction_status[trarvar]['key']]['wb']['busy'] = 0\n",
        "\n",
        "                    reservation_Station[instruction_status[trarvar]['key']]['wb']['op'] = -1\n",
        "                    reservation_Station[instruction_status[trarvar]['key']]['wb']['vj'] = 0\n",
        "                    reservation_Station[instruction_status[trarvar]['key']]['wb']['vk'] = 0\n",
        "                    reservation_Station[instruction_status[trarvar]['key']]['wb']['qj'] = 0\n",
        "                    reservation_Station[instruction_status[trarvar]['key']]['wb']['qk'] = 0\n",
        "                    instruction_status[trarvar]['completed_yet'] = -1\n",
        "                    #\n",
        "                    #\n",
        "                    #free hardware\n",
        "                    # free renamed hardware\n",
        "                    doubleifpor= True\n",
        "                    if res_totherinputs[trarvar][0] in map_table.keys():\n",
        "                        # print(\"DEBUG5 Reached\",(map_table[res_totherinputs[trarvar][0]][0]))\n",
        "                        if register_Status[res_totherinputs[trarvar][0]]!=0:\n",
        "                            if register_Status[res_totherinputs[trarvar][0]][1]==trarvar:\n",
        "                                temmmpempstr  = \"Write register done \"+str(res_totherinputs[trarvar][0])\n",
        "                                RAISEEXCEPTION.append(temmmpempstr)\n",
        "                                register_Status[res_totherinputs[trarvar][0]]=0\n",
        "                                doubleifpor = False\n",
        "\n",
        "\n",
        "                            pass\n",
        "                        elif isinstance(register_Status[map_table[res_totherinputs[trarvar][0]][0]],list):\n",
        "\n",
        "                            if register_Status[map_table[res_totherinputs[trarvar][0]][0]][1] == trarvar:\n",
        "                                temmmpempstr  = \"BUFFER TRANSFER FROM to \"+str(map_table[res_totherinputs[trarvar][0]][0])+\" to its original register\"\n",
        "                                RAISEEXCEPTION.append(temmmpempstr)\n",
        "                                register_Status[map_table[res_totherinputs[trarvar][0]][0]] = 0\n",
        "                                doubleifpor = False\n",
        "\n",
        "                    if doubleifpor:\n",
        "                        register_Status[res_totherinputs[trarvar][0]]=0\n",
        "\n",
        "\n",
        "\n",
        "\n",
        "\n",
        "\n",
        "\n",
        "\n",
        "\n",
        "\n",
        "\n",
        "    clear()\n",
        "    print('\\nCLOCK = ',CLOCK_VAR)\n",
        "    # for keys in reservation_Station.keys():\n",
        "    print(\"\\nHardware Reservation Table\")\n",
        "    for keys in get_hardwareused_list:\n",
        "        if keys not in [\"LOAD1\",\"STORE\",\"REGISTER_COMPLEMENT\"]:\n",
        "\n",
        "            print(keys,'issue ',reservation_Station[keys]['is'])\n",
        "            print('execute ',reservation_Station[keys]['ex'])\n",
        "            print('write back ',reservation_Station[keys]['wb'])\n",
        "            print()\n",
        "\n",
        "    print()\n",
        "    print(\"\\nHardware Reservation Table for Load Store Complement\")\n",
        "    for keys in get_hardwareused_list:\n",
        "        if keys in [\"LOAD1\",\"STORE\",\"REGISTER_COMPLEMENT\"]:\n",
        "\n",
        "            print(keys,'issue :',reservation_Station[keys]['is'][\"busy\"],end= \" \")\n",
        "            print('operation: ',reservation_Station[keys]['is'][\"op\"],end= \" \")\n",
        "            print('vj :',reservation_Station[keys]['is'][\"vj\"],end= \" \")\n",
        "\n",
        "            print('qj: ',reservation_Station[keys]['is'][\"qj\"],end = \"   \")\n",
        "\n",
        "            print(keys,'issue :',reservation_Station[keys]['ex'][\"busy\"],end= \" \")\n",
        "            print('operation :',reservation_Station[keys]['ex'][\"op\"],end= \" \")\n",
        "            print('vj :',reservation_Station[keys]['ex'][\"vj\"],end= \" \")\n",
        "\n",
        "            print('qj :',reservation_Station[keys]['ex'][\"qj\"],end = \"   \")\n",
        "\n",
        "            print(keys,'issue: ',reservation_Station[keys]['wb'][\"busy\"],end= \" \")\n",
        "            print('operation: ',reservation_Station[keys]['wb'][\"op\"],end= \" \")\n",
        "            print('vj: ',reservation_Station[keys]['wb'][\"vj\"],end= \" \")\n",
        "\n",
        "            print('qj: ',reservation_Station[keys]['wb'][\"qj\"],end = \"   \")\n",
        "\n",
        "\n",
        "            # print('execute ',reservation_Station[keys]['ex'])\n",
        "            # print('write back ',reservation_Station[keys]['wb'])\n",
        "            print()\n",
        "\n",
        "    print()\n",
        "\n",
        "    print(\"Instruction STATUS\")\n",
        "    instruction_status_keyforprint = ['issue', 'exec', 'writeback', 'completed_yet', 'key']\n",
        "    for i1 in instruction_status:\n",
        "        for j12 in instruction_status_keyforprint:\n",
        "            print(j12,\" : \",i1[j12],end = \" \")\n",
        "        print()\n",
        "    # print(instruction_status)\n",
        "\n",
        "\n",
        "\n",
        "    print()\n",
        "    print(\"Instructions Input\\n\")\n",
        "    for leinstr in range(LENTH_OFINSTRUCTION_STATUS):\n",
        "        if instruction_status[leinstr]['completed_yet']!=-1:\n",
        "            print(opc_odes1[leinstr],end = \" \")\n",
        "            for regprit in res_totherinputs[leinstr]:\n",
        "                if (regprit in map_table.keys()):\n",
        "                    if len(map_table[regprit])==3:\n",
        "                        # renamed for WAR\n",
        "                        if (leinstr in map_table[regprit][1]):\n",
        "                            print(regprit,end = \" ,\")\n",
        "\n",
        "                            # print(regprit,end = \" ,\")\n",
        "                        else:\n",
        "                            print(map_table[regprit][0],end = \" ,\")\n",
        "\n",
        "\n",
        "                        # renamed for WAW\n",
        "                    elif len(map_table[regprit])==2:\n",
        "                        if leinstr>=map_table[regprit][1]:\n",
        "                            print(map_table[regprit][0],end = \" ,\")\n",
        "\n",
        "                            # print()\n",
        "                        else:\n",
        "                            print(regprit,end = \" ,\")\n",
        "\n",
        "                            pass\n",
        "                        pass\n",
        "                # elif regprit in map_table.keys():\n",
        "                #     print(map_table[regprit][0],end = \" \")\n",
        "                else:\n",
        "                    print(regprit,end = \" ,\")\n",
        "                    pass\n",
        "            print()\n",
        "        else:\n",
        "            print(opc_odes1[leinstr],\" is now completed\")\n",
        "\n",
        "    print(\"\\nRegister Status\")\n",
        "    print(register_Status)\n",
        "    # for i12 in register_Status.keys():\n",
        "    #     if i12 not in temp_ereg:\n",
        "    #         print(i12,\" : \",register_Status[i12],end = \" \")\n",
        "\n",
        "\n",
        "\n",
        "    print(\"\\n\")\n",
        "\n",
        "    print(\"Renamed Register list\")\n",
        "    for keyuar in map_table.keys():\n",
        "        if isinstance(register_Status[map_table[keyuar][0]],list):\n",
        "            print(\"Instruction \",register_Status[map_table[keyuar][0]][1]+1,\"   \",keyuar,\" is renamed to \",map_table[keyuar][0],end = \" \" )\n",
        "            if len(map_table[keyuar])==3:\n",
        "                print(\"Renamed For WAR\")\n",
        "            elif len(map_table[keyuar])==2:\n",
        "                print(\"Renamed For WAW\")\n",
        "\n",
        "\n",
        "    print()\n",
        "    if map_table!={}:\n",
        "        print(\"\\nmap_table\\n\")\n",
        "        print(map_table)\n",
        "        print()\n",
        "    if RAISEEXCEPTION!=[]:\n",
        "        print(\"EXCEPTION Handled Messages\")\n",
        "        for messages in RAISEEXCEPTION:\n",
        "            print(messages)\n",
        "    RAISEEXCEPTION = []\n",
        "    print('\\nCLOCK = ',CLOCK_VAR)\n",
        "\n",
        "\n",
        "\n",
        "\n",
        "\n",
        "        # copy stuff from issue unit to exec unit in\n",
        "\n",
        "\n",
        "    #shift from issue to ex only if ex is free\n",
        "    for eachharwareexunit in reservation_Station.keys():\n",
        "        if reservation_Station[eachharwareexunit]['ex']['busy'] == 0:\n",
        "            #excution is free\n",
        "            if reservation_Station[eachharwareexunit]['is']['busy'] == 1 and reservation_Station[eachharwareexunit]['is']['readytoexec']== 1:\n",
        "                #issue is being used\n",
        "                # now convert issue to execute\n",
        "                # free issue and declare ex as busy\n",
        "                reservation_Station[eachharwareexunit]['ex']['busy'] = 1\n",
        "                reservation_Station[eachharwareexunit]['is']['busy'] = 0\n",
        "                reservation_Station[eachharwareexunit]['ex']['op'] = reservation_Station[eachharwareexunit]['is']['op']\n",
        "                reservation_Station[eachharwareexunit]['ex']['vj'] = reservation_Station[eachharwareexunit]['is']['vj']\n",
        "                reservation_Station[eachharwareexunit]['ex']['vk'] = reservation_Station[eachharwareexunit]['is']['vk']\n",
        "                reservation_Station[eachharwareexunit]['ex']['qk'] = reservation_Station[eachharwareexunit]['is']['qk']\n",
        "                reservation_Station[eachharwareexunit]['ex']['qj'] = reservation_Station[eachharwareexunit]['is']['qj']\n",
        "\n",
        "\n",
        "                reservation_Station[eachharwareexunit]['is']['op'] = -1\n",
        "                reservation_Station[eachharwareexunit]['is']['vj'] = 0\n",
        "                reservation_Station[eachharwareexunit]['is']['vk'] = 0\n",
        "                reservation_Station[eachharwareexunit]['is']['qj'] = 0\n",
        "                reservation_Station[eachharwareexunit]['is']['qk'] = 0\n",
        "                # reservation_Station[eachharwareexunit]['is']['vj'] = 0\n",
        "\n",
        "\n",
        "                reservation_Station[eachharwareexunit]['is']['readytoexec'] = 0\n",
        "\n",
        "\n",
        "    # ex to wb unit of ex\n",
        "    for eachhardwareunit in reservation_Station.keys():\n",
        "        if reservation_Station[eachhardwareunit]['wb']['busy'] ==0:\n",
        "            # available\n",
        "            # if reservation_Station[instruction_status[trarvar]['key']]['wb']['busy'] == 0:\n",
        "                #hardware is free\n",
        "                # transfer all stuff from ex to wb\\\n",
        "            if reservation_Station[eachhardwareunit]['ex']['busy'] == 1 and reservation_Station[eachhardwareunit]['ex']['readytowrite']==1:\n",
        "                reservation_Station[eachhardwareunit]['wb']['busy'] = 1 #now busy\n",
        "                reservation_Station[eachhardwareunit]['ex']['busy'] = 0 #freed\n",
        "                reservation_Station[eachhardwareunit]['wb']['op'] = reservation_Station[eachhardwareunit]['ex']['op']\n",
        "                reservation_Station[eachhardwareunit]['wb']['vj'] = reservation_Station[eachhardwareunit]['ex']['vj']\n",
        "                reservation_Station[eachhardwareunit]['wb']['vk'] = reservation_Station[eachhardwareunit]['ex']['vk']\n",
        "                reservation_Station[eachhardwareunit]['wb']['qj'] = reservation_Station[eachhardwareunit]['ex']['qj']\n",
        "                reservation_Station[eachhardwareunit]['wb']['qk'] = reservation_Station[eachhardwareunit]['ex']['qk']\n",
        "\n",
        "\n",
        "                reservation_Station[eachhardwareunit]['ex']['op'] = -1\n",
        "                reservation_Station[eachhardwareunit]['ex']['vj'] = 0\n",
        "                reservation_Station[eachhardwareunit]['ex']['vk'] = 0\n",
        "                reservation_Station[eachhardwareunit]['ex']['qj'] = 0\n",
        "                reservation_Station[eachhardwareunit]['ex']['qk'] = 0\n",
        "\n",
        "\n",
        "\n",
        "                # now in write state\n",
        "                reservation_Station[eachhardwareunit]['ex']['readytowrite'] = 0\n",
        "\n",
        "\n",
        "\n",
        "\n",
        "\n",
        "\n",
        "\n",
        "    # rename register when everyone is done reading from it\n",
        "\n",
        "    listtoremovefromdict = []\n",
        "    for keyvar in map_table.keys():\n",
        "        if len(map_table[keyvar])==3:\n",
        "            busy = False\n",
        "            for eachoperation in map_table[keyvar][1]:#list of operation reading it\n",
        "\n",
        "                if instruction_status[eachoperation]['completed_yet']>0:#inwriteback stages or completed (we dont have to read reg)\n",
        "                    busy = True#even if one is busy\n",
        "                    break\n",
        "            # print(\"bvusy\",busy)\n",
        "            if busy == False:\n",
        "                register_Status[keyvar] = register_Status[map_table[keyvar][0]]\n",
        "                register_Status[map_table[keyvar][0]] = 0\n",
        "                # map_table.pop(keyvar,None)\n",
        "                listtoremovefromdict.append(keyvar)\n",
        "\n",
        "        elif len(map_table[keyvar])==2:\n",
        "            # busy = False\n",
        "            if instruction_status[map_table[keyvar][1]]['completed_yet']==-1:\n",
        "                register_Status[keyvar] = register_Status[map_table[keyvar][0]]\n",
        "                register_Status[map_table[keyvar][0]] =0\n",
        "                #original register done writing therefore done writing\n",
        "                listtoremovefromdict.append(keyvar)\n",
        "\n",
        "                pass\n",
        "            pass\n",
        "\n",
        "\n",
        "\n",
        "    # print(\"removedick\",listtoremovefromdict)\n",
        "    for keyvar in listtoremovefromdict:\n",
        "        str11 = \"REGISTER RENAMED \"+str(keyvar)+\" to its original name\"\n",
        "        RAISEEXCEPTION.append(str11)\n",
        "        map_table.pop(keyvar,None)\n",
        "\n",
        "\n",
        "\n",
        "\n",
        "\n",
        "\n",
        "\n",
        "\n",
        "\n",
        "\n",
        "\n",
        "\n",
        "\n",
        "    if completed_fuc(instruction_status):\n",
        "        completed_VAR = False\n",
        "    # debug purposes\n",
        "    # time.sleep(timdiff)\n",
        "    if simulate==\"yes\":\n",
        "        x123 = input(\"\\nPress enter to go to next clock\")\n",
        "\n",
        "\n",
        "\n",
        "\n",
        "\n",
        "\n",
        "\n",
        "\n"
      ],
      "execution_count": 75,
      "outputs": [
        {
          "output_type": "error",
          "ename": "NameError",
          "evalue": "ignored",
          "traceback": [
            "\u001b[0;31m---------------------------------------------------------------------------\u001b[0m",
            "\u001b[0;31mNameError\u001b[0m                                 Traceback (most recent call last)",
            "\u001b[0;32m<ipython-input-75-c2e51c3a2d41>\u001b[0m in \u001b[0;36m<module>\u001b[0;34m()\u001b[0m\n\u001b[1;32m   1132\u001b[0m \u001b[0;34m\u001b[0m\u001b[0m\n\u001b[1;32m   1133\u001b[0m \u001b[0;34m\u001b[0m\u001b[0m\n\u001b[0;32m-> 1134\u001b[0;31m     \u001b[0mclear\u001b[0m\u001b[0;34m(\u001b[0m\u001b[0;34m)\u001b[0m\u001b[0;34m\u001b[0m\u001b[0;34m\u001b[0m\u001b[0m\n\u001b[0m\u001b[1;32m   1135\u001b[0m     \u001b[0mprint\u001b[0m\u001b[0;34m(\u001b[0m\u001b[0;34m'\\nCLOCK = '\u001b[0m\u001b[0;34m,\u001b[0m\u001b[0mCLOCK_VAR\u001b[0m\u001b[0;34m)\u001b[0m\u001b[0;34m\u001b[0m\u001b[0;34m\u001b[0m\u001b[0m\n\u001b[1;32m   1136\u001b[0m     \u001b[0;31m# for keys in reservation_Station.keys():\u001b[0m\u001b[0;34m\u001b[0m\u001b[0;34m\u001b[0m\u001b[0;34m\u001b[0m\u001b[0m\n",
            "\u001b[0;31mNameError\u001b[0m: name 'clear' is not defined"
          ]
        }
      ]
    },
    {
      "cell_type": "code",
      "metadata": {
        "id": "lje3ES3GW4-0",
        "colab_type": "code",
        "colab": {}
      },
      "source": [
        ""
      ],
      "execution_count": null,
      "outputs": []
    },
    {
      "cell_type": "code",
      "metadata": {
        "id": "wbav1lryW5BU",
        "colab_type": "code",
        "colab": {}
      },
      "source": [
        ""
      ],
      "execution_count": null,
      "outputs": []
    },
    {
      "cell_type": "code",
      "metadata": {
        "id": "Dx9iwuTpW5D3",
        "colab_type": "code",
        "colab": {}
      },
      "source": [
        ""
      ],
      "execution_count": null,
      "outputs": []
    },
    {
      "cell_type": "code",
      "metadata": {
        "id": "22q1bBfxW5GG",
        "colab_type": "code",
        "colab": {}
      },
      "source": [
        ""
      ],
      "execution_count": null,
      "outputs": []
    },
    {
      "cell_type": "code",
      "metadata": {
        "id": "0YdB0kCEW5It",
        "colab_type": "code",
        "colab": {}
      },
      "source": [
        ""
      ],
      "execution_count": null,
      "outputs": []
    },
    {
      "cell_type": "code",
      "metadata": {
        "id": "1NZdj-mIW5LO",
        "colab_type": "code",
        "colab": {}
      },
      "source": [
        ""
      ],
      "execution_count": null,
      "outputs": []
    },
    {
      "cell_type": "code",
      "metadata": {
        "id": "vvNtysOhW5N6",
        "colab_type": "code",
        "colab": {}
      },
      "source": [
        ""
      ],
      "execution_count": null,
      "outputs": []
    },
    {
      "cell_type": "code",
      "metadata": {
        "id": "kZQcolaHW5Qy",
        "colab_type": "code",
        "colab": {}
      },
      "source": [
        ""
      ],
      "execution_count": null,
      "outputs": []
    },
    {
      "cell_type": "code",
      "metadata": {
        "id": "--BMdg05W5Tq",
        "colab_type": "code",
        "colab": {}
      },
      "source": [
        ""
      ],
      "execution_count": null,
      "outputs": []
    },
    {
      "cell_type": "code",
      "metadata": {
        "id": "iRxO2CO3W5Wg",
        "colab_type": "code",
        "colab": {}
      },
      "source": [
        ""
      ],
      "execution_count": null,
      "outputs": []
    },
    {
      "cell_type": "code",
      "metadata": {
        "id": "jm4kqZ5-W5ZV",
        "colab_type": "code",
        "colab": {}
      },
      "source": [
        ""
      ],
      "execution_count": null,
      "outputs": []
    },
    {
      "cell_type": "code",
      "metadata": {
        "id": "shIG0jjnW5cQ",
        "colab_type": "code",
        "colab": {}
      },
      "source": [
        ""
      ],
      "execution_count": null,
      "outputs": []
    },
    {
      "cell_type": "code",
      "metadata": {
        "id": "BF_O5I6JW5fK",
        "colab_type": "code",
        "colab": {}
      },
      "source": [
        ""
      ],
      "execution_count": null,
      "outputs": []
    },
    {
      "cell_type": "code",
      "metadata": {
        "id": "d6IknloyW5iJ",
        "colab_type": "code",
        "colab": {}
      },
      "source": [
        ""
      ],
      "execution_count": null,
      "outputs": []
    },
    {
      "cell_type": "code",
      "metadata": {
        "id": "1L6XtWZkW5k7",
        "colab_type": "code",
        "colab": {}
      },
      "source": [
        ""
      ],
      "execution_count": null,
      "outputs": []
    },
    {
      "cell_type": "code",
      "metadata": {
        "id": "kzWTyCfTW5ns",
        "colab_type": "code",
        "colab": {}
      },
      "source": [
        ""
      ],
      "execution_count": null,
      "outputs": []
    },
    {
      "cell_type": "code",
      "metadata": {
        "id": "r9pLIAn_W5qZ",
        "colab_type": "code",
        "colab": {}
      },
      "source": [
        ""
      ],
      "execution_count": null,
      "outputs": []
    },
    {
      "cell_type": "code",
      "metadata": {
        "id": "39c_t-xvW5sw",
        "colab_type": "code",
        "colab": {}
      },
      "source": [
        ""
      ],
      "execution_count": null,
      "outputs": []
    },
    {
      "cell_type": "code",
      "metadata": {
        "id": "thF47kVmW5vU",
        "colab_type": "code",
        "colab": {}
      },
      "source": [
        ""
      ],
      "execution_count": null,
      "outputs": []
    },
    {
      "cell_type": "code",
      "metadata": {
        "id": "jvwpuMgvW5x1",
        "colab_type": "code",
        "colab": {}
      },
      "source": [
        ""
      ],
      "execution_count": null,
      "outputs": []
    },
    {
      "cell_type": "code",
      "metadata": {
        "id": "__cOduOlW50c",
        "colab_type": "code",
        "colab": {}
      },
      "source": [
        ""
      ],
      "execution_count": null,
      "outputs": []
    },
    {
      "cell_type": "code",
      "metadata": {
        "id": "XNIErE8vW53A",
        "colab_type": "code",
        "colab": {}
      },
      "source": [
        ""
      ],
      "execution_count": null,
      "outputs": []
    },
    {
      "cell_type": "code",
      "metadata": {
        "id": "T8Lo6oYKW55e",
        "colab_type": "code",
        "colab": {}
      },
      "source": [
        ""
      ],
      "execution_count": null,
      "outputs": []
    },
    {
      "cell_type": "code",
      "metadata": {
        "id": "aAIiR1b7W57-",
        "colab_type": "code",
        "colab": {}
      },
      "source": [
        ""
      ],
      "execution_count": null,
      "outputs": []
    },
    {
      "cell_type": "code",
      "metadata": {
        "id": "0OYqYFs6W5-V",
        "colab_type": "code",
        "colab": {}
      },
      "source": [
        ""
      ],
      "execution_count": null,
      "outputs": []
    },
    {
      "cell_type": "code",
      "metadata": {
        "id": "YbystY-tW6Av",
        "colab_type": "code",
        "colab": {}
      },
      "source": [
        ""
      ],
      "execution_count": null,
      "outputs": []
    },
    {
      "cell_type": "code",
      "metadata": {
        "id": "UxicM8AzW6DV",
        "colab_type": "code",
        "colab": {}
      },
      "source": [
        ""
      ],
      "execution_count": null,
      "outputs": []
    },
    {
      "cell_type": "code",
      "metadata": {
        "id": "DoO-wuTAW6Fh",
        "colab_type": "code",
        "colab": {}
      },
      "source": [
        ""
      ],
      "execution_count": null,
      "outputs": []
    },
    {
      "cell_type": "code",
      "metadata": {
        "id": "ati6gpQXW6IF",
        "colab_type": "code",
        "colab": {}
      },
      "source": [
        ""
      ],
      "execution_count": null,
      "outputs": []
    },
    {
      "cell_type": "code",
      "metadata": {
        "id": "exv--p7FW6Kn",
        "colab_type": "code",
        "colab": {}
      },
      "source": [
        ""
      ],
      "execution_count": null,
      "outputs": []
    },
    {
      "cell_type": "code",
      "metadata": {
        "id": "1XxTKBlNS2sN",
        "colab_type": "code",
        "colab": {}
      },
      "source": [
        ""
      ],
      "execution_count": null,
      "outputs": []
    },
    {
      "cell_type": "code",
      "metadata": {
        "id": "-5xyfpuoS2u7",
        "colab_type": "code",
        "colab": {}
      },
      "source": [
        ""
      ],
      "execution_count": null,
      "outputs": []
    },
    {
      "cell_type": "code",
      "metadata": {
        "id": "iZSRTKfoS2x8",
        "colab_type": "code",
        "colab": {}
      },
      "source": [
        ""
      ],
      "execution_count": null,
      "outputs": []
    },
    {
      "cell_type": "code",
      "metadata": {
        "id": "ScM9YecHS201",
        "colab_type": "code",
        "colab": {}
      },
      "source": [
        ""
      ],
      "execution_count": null,
      "outputs": []
    },
    {
      "cell_type": "code",
      "metadata": {
        "id": "gzPhR-DOS24D",
        "colab_type": "code",
        "colab": {}
      },
      "source": [
        ""
      ],
      "execution_count": null,
      "outputs": []
    },
    {
      "cell_type": "code",
      "metadata": {
        "id": "VQgE_3zGS27b",
        "colab_type": "code",
        "colab": {}
      },
      "source": [
        ""
      ],
      "execution_count": null,
      "outputs": []
    },
    {
      "cell_type": "code",
      "metadata": {
        "id": "WGVp8aYHS2-j",
        "colab_type": "code",
        "colab": {}
      },
      "source": [
        ""
      ],
      "execution_count": null,
      "outputs": []
    },
    {
      "cell_type": "code",
      "metadata": {
        "id": "SU2tbQ3AS3B0",
        "colab_type": "code",
        "colab": {}
      },
      "source": [
        ""
      ],
      "execution_count": null,
      "outputs": []
    },
    {
      "cell_type": "code",
      "metadata": {
        "id": "C72hVA3IS3E9",
        "colab_type": "code",
        "colab": {}
      },
      "source": [
        ""
      ],
      "execution_count": null,
      "outputs": []
    },
    {
      "cell_type": "code",
      "metadata": {
        "id": "HwU0A1QYS3II",
        "colab_type": "code",
        "colab": {}
      },
      "source": [
        ""
      ],
      "execution_count": null,
      "outputs": []
    },
    {
      "cell_type": "code",
      "metadata": {
        "id": "ClaJNrEpS3Lj",
        "colab_type": "code",
        "colab": {}
      },
      "source": [
        ""
      ],
      "execution_count": null,
      "outputs": []
    },
    {
      "cell_type": "code",
      "metadata": {
        "id": "DLX4HZwCS3Ok",
        "colab_type": "code",
        "colab": {}
      },
      "source": [
        ""
      ],
      "execution_count": null,
      "outputs": []
    },
    {
      "cell_type": "code",
      "metadata": {
        "id": "wnxDNG75S3Rj",
        "colab_type": "code",
        "colab": {}
      },
      "source": [
        ""
      ],
      "execution_count": null,
      "outputs": []
    },
    {
      "cell_type": "code",
      "metadata": {
        "id": "-zvQlXF4S3Ue",
        "colab_type": "code",
        "colab": {}
      },
      "source": [
        ""
      ],
      "execution_count": null,
      "outputs": []
    },
    {
      "cell_type": "code",
      "metadata": {
        "id": "0ft_0Uz7S3Xl",
        "colab_type": "code",
        "colab": {}
      },
      "source": [
        ""
      ],
      "execution_count": null,
      "outputs": []
    },
    {
      "cell_type": "code",
      "metadata": {
        "id": "uTnF01PWS3ao",
        "colab_type": "code",
        "colab": {}
      },
      "source": [
        ""
      ],
      "execution_count": null,
      "outputs": []
    },
    {
      "cell_type": "code",
      "metadata": {
        "id": "hS2LbiM6S3dx",
        "colab_type": "code",
        "colab": {}
      },
      "source": [
        ""
      ],
      "execution_count": null,
      "outputs": []
    },
    {
      "cell_type": "code",
      "metadata": {
        "id": "XjG3STNqS3gr",
        "colab_type": "code",
        "colab": {}
      },
      "source": [
        ""
      ],
      "execution_count": null,
      "outputs": []
    },
    {
      "cell_type": "code",
      "metadata": {
        "id": "_Yyv8YRRS3j0",
        "colab_type": "code",
        "colab": {}
      },
      "source": [
        ""
      ],
      "execution_count": null,
      "outputs": []
    },
    {
      "cell_type": "code",
      "metadata": {
        "id": "emVfIOyKS3m-",
        "colab_type": "code",
        "colab": {}
      },
      "source": [
        ""
      ],
      "execution_count": null,
      "outputs": []
    },
    {
      "cell_type": "code",
      "metadata": {
        "id": "qBDT5osIS3p_",
        "colab_type": "code",
        "colab": {}
      },
      "source": [
        ""
      ],
      "execution_count": null,
      "outputs": []
    },
    {
      "cell_type": "code",
      "metadata": {
        "id": "1PThLo7LS3s5",
        "colab_type": "code",
        "colab": {}
      },
      "source": [
        ""
      ],
      "execution_count": null,
      "outputs": []
    },
    {
      "cell_type": "code",
      "metadata": {
        "id": "e9EEAU8XS3v7",
        "colab_type": "code",
        "colab": {}
      },
      "source": [
        ""
      ],
      "execution_count": null,
      "outputs": []
    },
    {
      "cell_type": "code",
      "metadata": {
        "id": "r53llxRxS3yx",
        "colab_type": "code",
        "colab": {}
      },
      "source": [
        ""
      ],
      "execution_count": null,
      "outputs": []
    },
    {
      "cell_type": "code",
      "metadata": {
        "id": "1lkAgRDSS315",
        "colab_type": "code",
        "colab": {}
      },
      "source": [
        ""
      ],
      "execution_count": null,
      "outputs": []
    },
    {
      "cell_type": "code",
      "metadata": {
        "id": "5r4DS0GLS34s",
        "colab_type": "code",
        "colab": {}
      },
      "source": [
        ""
      ],
      "execution_count": null,
      "outputs": []
    },
    {
      "cell_type": "code",
      "metadata": {
        "id": "5F7aLA32S37g",
        "colab_type": "code",
        "colab": {}
      },
      "source": [
        ""
      ],
      "execution_count": null,
      "outputs": []
    },
    {
      "cell_type": "code",
      "metadata": {
        "id": "xdTvJTbtS39_",
        "colab_type": "code",
        "colab": {}
      },
      "source": [
        ""
      ],
      "execution_count": null,
      "outputs": []
    },
    {
      "cell_type": "code",
      "metadata": {
        "id": "sr-kKy9gS4BT",
        "colab_type": "code",
        "colab": {}
      },
      "source": [
        ""
      ],
      "execution_count": null,
      "outputs": []
    },
    {
      "cell_type": "code",
      "metadata": {
        "id": "wuYlWvmhS4ET",
        "colab_type": "code",
        "colab": {}
      },
      "source": [
        ""
      ],
      "execution_count": null,
      "outputs": []
    },
    {
      "cell_type": "code",
      "metadata": {
        "id": "D3YA-ZJ_S4HW",
        "colab_type": "code",
        "colab": {}
      },
      "source": [
        ""
      ],
      "execution_count": null,
      "outputs": []
    },
    {
      "cell_type": "code",
      "metadata": {
        "id": "oyqKC4qoS4KO",
        "colab_type": "code",
        "colab": {}
      },
      "source": [
        ""
      ],
      "execution_count": null,
      "outputs": []
    },
    {
      "cell_type": "code",
      "metadata": {
        "id": "jLowdfuqS4Nf",
        "colab_type": "code",
        "colab": {}
      },
      "source": [
        ""
      ],
      "execution_count": null,
      "outputs": []
    },
    {
      "cell_type": "code",
      "metadata": {
        "id": "7y8MxtgTS4Qg",
        "colab_type": "code",
        "colab": {}
      },
      "source": [
        ""
      ],
      "execution_count": null,
      "outputs": []
    },
    {
      "cell_type": "code",
      "metadata": {
        "id": "EvvZcIP0S4Ta",
        "colab_type": "code",
        "colab": {}
      },
      "source": [
        ""
      ],
      "execution_count": null,
      "outputs": []
    },
    {
      "cell_type": "code",
      "metadata": {
        "id": "-TKDOYPVS4Wo",
        "colab_type": "code",
        "colab": {}
      },
      "source": [
        ""
      ],
      "execution_count": null,
      "outputs": []
    },
    {
      "cell_type": "code",
      "metadata": {
        "id": "g08Xt_2TS4ZW",
        "colab_type": "code",
        "colab": {}
      },
      "source": [
        ""
      ],
      "execution_count": null,
      "outputs": []
    },
    {
      "cell_type": "code",
      "metadata": {
        "id": "bCHw9OF3S4cg",
        "colab_type": "code",
        "colab": {}
      },
      "source": [
        ""
      ],
      "execution_count": null,
      "outputs": []
    },
    {
      "cell_type": "code",
      "metadata": {
        "id": "wCKTsR3MS4fj",
        "colab_type": "code",
        "colab": {}
      },
      "source": [
        ""
      ],
      "execution_count": null,
      "outputs": []
    },
    {
      "cell_type": "code",
      "metadata": {
        "id": "Z83Ke7rNS4im",
        "colab_type": "code",
        "colab": {}
      },
      "source": [
        ""
      ],
      "execution_count": null,
      "outputs": []
    },
    {
      "cell_type": "code",
      "metadata": {
        "id": "P_OBxF9FS4lk",
        "colab_type": "code",
        "colab": {}
      },
      "source": [
        ""
      ],
      "execution_count": null,
      "outputs": []
    },
    {
      "cell_type": "code",
      "metadata": {
        "id": "5A8soSHLS4or",
        "colab_type": "code",
        "colab": {}
      },
      "source": [
        ""
      ],
      "execution_count": null,
      "outputs": []
    },
    {
      "cell_type": "code",
      "metadata": {
        "id": "n7E441jYS4rk",
        "colab_type": "code",
        "colab": {}
      },
      "source": [
        ""
      ],
      "execution_count": null,
      "outputs": []
    },
    {
      "cell_type": "code",
      "metadata": {
        "id": "jwfTlnjSS4ua",
        "colab_type": "code",
        "colab": {}
      },
      "source": [
        ""
      ],
      "execution_count": null,
      "outputs": []
    },
    {
      "cell_type": "code",
      "metadata": {
        "id": "1q2J8bPULoFt",
        "colab_type": "code",
        "colab": {}
      },
      "source": [
        ""
      ],
      "execution_count": null,
      "outputs": []
    },
    {
      "cell_type": "code",
      "metadata": {
        "id": "TCyBVkLYLoIY",
        "colab_type": "code",
        "colab": {}
      },
      "source": [
        ""
      ],
      "execution_count": null,
      "outputs": []
    },
    {
      "cell_type": "code",
      "metadata": {
        "id": "qj7DRMcILoLG",
        "colab_type": "code",
        "colab": {}
      },
      "source": [
        ""
      ],
      "execution_count": null,
      "outputs": []
    },
    {
      "cell_type": "code",
      "metadata": {
        "id": "sxW1C-V7LoNn",
        "colab_type": "code",
        "colab": {}
      },
      "source": [
        ""
      ],
      "execution_count": null,
      "outputs": []
    },
    {
      "cell_type": "code",
      "metadata": {
        "id": "sboDC1UYLoQK",
        "colab_type": "code",
        "colab": {}
      },
      "source": [
        ""
      ],
      "execution_count": null,
      "outputs": []
    },
    {
      "cell_type": "code",
      "metadata": {
        "id": "Tky56wM_LoS9",
        "colab_type": "code",
        "colab": {}
      },
      "source": [
        ""
      ],
      "execution_count": null,
      "outputs": []
    },
    {
      "cell_type": "code",
      "metadata": {
        "id": "gSOhnLAKLoVV",
        "colab_type": "code",
        "colab": {}
      },
      "source": [
        ""
      ],
      "execution_count": null,
      "outputs": []
    },
    {
      "cell_type": "code",
      "metadata": {
        "id": "i3IOFrYELoYP",
        "colab_type": "code",
        "colab": {}
      },
      "source": [
        ""
      ],
      "execution_count": null,
      "outputs": []
    },
    {
      "cell_type": "code",
      "metadata": {
        "id": "zhmzyWxpLobJ",
        "colab_type": "code",
        "colab": {}
      },
      "source": [
        ""
      ],
      "execution_count": null,
      "outputs": []
    },
    {
      "cell_type": "code",
      "metadata": {
        "id": "gVQOjtASLod1",
        "colab_type": "code",
        "colab": {}
      },
      "source": [
        ""
      ],
      "execution_count": null,
      "outputs": []
    },
    {
      "cell_type": "code",
      "metadata": {
        "id": "uQGuDKlOLog-",
        "colab_type": "code",
        "colab": {}
      },
      "source": [
        ""
      ],
      "execution_count": null,
      "outputs": []
    },
    {
      "cell_type": "code",
      "metadata": {
        "id": "6G66yGrSLoj5",
        "colab_type": "code",
        "colab": {}
      },
      "source": [
        ""
      ],
      "execution_count": null,
      "outputs": []
    },
    {
      "cell_type": "code",
      "metadata": {
        "id": "hZbf3mG4LomU",
        "colab_type": "code",
        "colab": {}
      },
      "source": [
        ""
      ],
      "execution_count": null,
      "outputs": []
    },
    {
      "cell_type": "code",
      "metadata": {
        "id": "B9MFyzKFLopW",
        "colab_type": "code",
        "colab": {}
      },
      "source": [
        ""
      ],
      "execution_count": null,
      "outputs": []
    },
    {
      "cell_type": "code",
      "metadata": {
        "id": "yV3OvPTILost",
        "colab_type": "code",
        "colab": {}
      },
      "source": [
        ""
      ],
      "execution_count": null,
      "outputs": []
    }
  ]
}